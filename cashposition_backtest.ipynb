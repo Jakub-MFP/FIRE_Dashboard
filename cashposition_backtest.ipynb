{
  "nbformat": 4,
  "nbformat_minor": 0,
  "metadata": {
    "colab": {
      "name": "cashposition_backtest.ipynb",
      "provenance": [],
      "collapsed_sections": [
        "eNeSYqJ-zALj"
      ],
      "mount_file_id": "1rItD0mr6wIoEI5VGOyM1r6r5NAlzEJY1",
      "authorship_tag": "ABX9TyNZ8BYcSNI+OulR0H+bZ8x6",
      "include_colab_link": true
    },
    "kernelspec": {
      "name": "python3",
      "display_name": "Python 3"
    }
  },
  "cells": [
    {
      "cell_type": "markdown",
      "metadata": {
        "id": "view-in-github",
        "colab_type": "text"
      },
      "source": [
        "<a href=\"https://colab.research.google.com/github/Jakub-MFP/My_FIRE_Project/blob/master/cashposition_backtest.ipynb\" target=\"_parent\"><img src=\"https://colab.research.google.com/assets/colab-badge.svg\" alt=\"Open In Colab\"/></a>"
      ]
    },
    {
      "cell_type": "markdown",
      "metadata": {
        "id": "eNeSYqJ-zALj",
        "colab_type": "text"
      },
      "source": [
        "# **Project Objective**"
      ]
    },
    {
      "cell_type": "markdown",
      "metadata": {
        "id": "3HrGCk7k1pZF",
        "colab_type": "text"
      },
      "source": [
        "**Problem**\n",
        "\n",
        "Lots of resources advocate for investors to have between 10% to 30% of their portfolio in cash so we can seize upon market opportunities. The problem is that it is never explained when we should have 30% or 20% or 10% cash position, what factors determine how much cash we should have at any given time?\n",
        "\n",
        "\n",
        "**Question**\n",
        "\n",
        "What is the optimal cash position to keep in our portfolio at anytime for the past 20 years. We will assume that our portfolio only has one asset and it is the ETF SPY. Which is an ETF that tracks the SP500 Index and is a good overall indicator for the status of the \"market\"\n",
        "\n",
        "\n",
        "**Hypothesis**\n",
        "\n",
        "I think we will figure out that just investing 100% of the money into a portfolio during our regular deposit cycles and keeping no cash position will under-perform having a cash position at all times. \n",
        "\n",
        "*For example*\n",
        "\n",
        "* If the SPY is up, we keep 30% of our portfolio in cash\n",
        "* IF SPY is down 10% from ATH (all time high) than we keep 20% of portfolio in cash\n",
        "* IF SPY is down 20% from ATH than we keep 10% of portfolio in cash\n",
        "* IF SPY is down 30% from ATH than we keep 5% of portfolio in cash \n",
        "\n",
        "I believe that having a cash position on the side and investing more when the market is down will yield a higher ROI and CAGR over the same 20 year period. \n",
        "\n",
        "If SPY just regular investments returned a 9% CAGR, than I believe doing something as simple as just holding some cash will return 12% CAGR+. Something significant like 30-40% higher returns than otherwise possible. \n",
        "\n",
        "This will be tested not just on SPY but a number of stocks and ETFs with the eventually goal of doing this  with multiple stocks in a portfolio and using the efficient frontier to determine how much we allocate to any stock when the market trigger is in effect to reduce or increase our cash position. \n",
        "\n",
        "**The Procedure**\n",
        "1. We run the experiment to see how much 10,000 in 2000 would yield by end of Dec 2019 with no additional investments. We want to calcualte the CAGR or Compound Annual Growth Rate\n",
        "2. We run another experiment to see how much 10,000 in 2000 would yield by end of Dec 2019 with a 1,000 monthly deposit. Does it change the CAGR? \n",
        "3. Finally we will run a combinatorics trial \n",
        "\n",
        "   1. Start with 10,000\n",
        "        1. Deposit each month 1,000 into portfolio\n",
        "        2. Adjust the invested / cash ratio based on the market performance\n",
        "            1. If the SPY is all time high than keep 70% invested and 30% in cash\n",
        "            2. If the SPY drops 10% from ATM than keep 80% invested and 20% cash\n",
        "            3. If SPY drops 20% from ATM than keep 90% invested and 10% cash\n",
        "            4. If SPY drops 30% from ATM than keep 95% invested and 5% cash\n",
        "        3. Do every combination of cash allocation based on how much market drops between -1% and -50%\n",
        "        4. Calcualte the CAGR for each combination\n",
        "\n",
        "Daily Progress Update \n",
        "https://myfireproject.com/topic/301-portfolio-management-research/\n"
      ]
    },
    {
      "cell_type": "markdown",
      "metadata": {
        "id": "QrSc9hyCyTTU",
        "colab_type": "text"
      },
      "source": [
        "# **Initial Setup**\n",
        "\n",
        "Installs Alpha Vantage and imports required modules"
      ]
    },
    {
      "cell_type": "markdown",
      "metadata": {
        "id": "3QkSnHK28IKm",
        "colab_type": "text"
      },
      "source": [
        "**Install Alpha Vantage API**"
      ]
    },
    {
      "cell_type": "code",
      "metadata": {
        "id": "CDxEHz7O6Trc",
        "colab_type": "code",
        "colab": {}
      },
      "source": [
        "# Install Alpha Vantage\n",
        "!pip install pip install alpha_vantage"
      ],
      "execution_count": null,
      "outputs": []
    },
    {
      "cell_type": "markdown",
      "metadata": {
        "id": "CqNfq4rD8OpN",
        "colab_type": "text"
      },
      "source": [
        "**Import All The Modules You Need**"
      ]
    },
    {
      "cell_type": "code",
      "metadata": {
        "id": "UgIiQsAU6eEY",
        "colab_type": "code",
        "colab": {}
      },
      "source": [
        "import pandas as pd\n",
        "from pandas import DataFrame\n",
        "import json\n",
        "import requests\n",
        "import sqlite3\n",
        "import time\n",
        "import datetime\n",
        "from datetime import datetime as dt\n",
        "datetime.datetime.strptime\n",
        "from alpha_vantage.timeseries import TimeSeries\n",
        "import numpy as np\n",
        "import matplotlib.pyplot as plt \n",
        "import sys\n",
        "import math"
      ],
      "execution_count": 3,
      "outputs": []
    },
    {
      "cell_type": "markdown",
      "metadata": {
        "id": "U89l7OEW7rD8",
        "colab_type": "text"
      },
      "source": [
        "# **Alpaha Vantage API**\n",
        "\n",
        "This will create a pandas dataframe of all historical prices\n",
        "\n",
        "https://www.alphavantage.co/documentation/\n",
        "\n"
      ]
    },
    {
      "cell_type": "markdown",
      "metadata": {
        "id": "ekv9oXJIfIgq",
        "colab_type": "text"
      },
      "source": [
        "Assign Stock Ticker and API Key"
      ]
    },
    {
      "cell_type": "code",
      "metadata": {
        "id": "jPV1I0AuZpyj",
        "colab_type": "code",
        "colab": {}
      },
      "source": [
        "stock_ticker = 'SPY'\n",
        "api_key = open('/content/drive/My Drive/Colab Notebooks/key').read()"
      ],
      "execution_count": 4,
      "outputs": []
    },
    {
      "cell_type": "markdown",
      "metadata": {
        "id": "8KsdsNvZfP34",
        "colab_type": "text"
      },
      "source": [
        "Run API Request to get stock data\n",
        "\n",
        "    # Date / Open / High / Low / Close / Adjusted Close / Volume / Dividend / Split"
      ]
    },
    {
      "cell_type": "code",
      "metadata": {
        "id": "JweN40qJZsto",
        "colab_type": "code",
        "colab": {}
      },
      "source": [
        "ts = TimeSeries (key=api_key, output_format = \"pandas\")\n",
        "data_daily, meta_data = ts.get_daily_adjusted(symbol=stock_ticker, outputsize ='full')"
      ],
      "execution_count": 5,
      "outputs": []
    },
    {
      "cell_type": "markdown",
      "metadata": {
        "id": "A5DCPlBJfi9E",
        "colab_type": "text"
      },
      "source": [
        "Assign metrics from dataframe to individual variables"
      ]
    },
    {
      "cell_type": "code",
      "metadata": {
        "id": "V6IgGIOKZwzh",
        "colab_type": "code",
        "colab": {}
      },
      "source": [
        "    # data_daily['column name'][row number] \n",
        "# stock_price_open = data_daily['1. open'][0]\n",
        "# stock_price_close = data_daily['5. adjusted close'][0]\n",
        "# dividend_amount = data_daily['7. dividend amount'][0]"
      ],
      "execution_count": 6,
      "outputs": []
    },
    {
      "cell_type": "markdown",
      "metadata": {
        "id": "ak-ip1H-RIUo",
        "colab_type": "text"
      },
      "source": [
        "#**Procedure**\n",
        "Investment Period = Jan 1, 2000 to Dec 31, 2019\n",
        "1. ***ROI*** and ***CAGR*** of Investing `$10,000` and just allocating `100%` Position\n",
        "2. ***ROI*** and ***CAGR*** of Investing `$10,000` and depositing `$1,000` each month and allocating `100%` position \n",
        "3. ***ROI*** and ***CAGR*** of Investing `$10,000` and depositing `$1,000` each month and allocating a `variable` position using `market_status`"
      ]
    },
    {
      "cell_type": "markdown",
      "metadata": {
        "id": "5b8CJ_yZUSlH",
        "colab_type": "text"
      },
      "source": [
        "## Step 1. `$10,000` and `100% Position` "
      ]
    },
    {
      "cell_type": "markdown",
      "metadata": {
        "id": "NJX98F2LVKWj",
        "colab_type": "text"
      },
      "source": [
        "1. The goal is to get the dataframe to start on `start_date` and end on `end_date`\n",
        "2. Grab the `adjusted_close_price` for `start_date` or the next trading day therafter. \n",
        "3. `starting_shares` = `initial_investment` / `adjusted_close_price` for the `start_date`\n",
        "4. Grab the `adjusted_close_price` for the `end_date` \n",
        "5. `step1_final_value` = `starting_shares` * `adjusted_close_price`\n",
        "6. `step1_roi` = (`step1_final_value` - `initial_investment`) / `initial_investment`\n",
        "7. `step7_cagr` = round(((math.log(`step1_final_value`/`initial_investment`)) / (math.log(1+`number_of_years`))),2)"
      ]
    },
    {
      "cell_type": "code",
      "metadata": {
        "id": "xe5-7CHdZUdW",
        "colab_type": "code",
        "colab": {}
      },
      "source": [
        "start_date = '2000-01-01'\n",
        "end_date = '2019-12-31'\n",
        "number_of_years = float(end_date - start_date) #should be 20 years ish\n",
        "\n",
        "    #step 1\n",
        "date_filter = # range between start_date and end_date\n",
        "\n",
        "initial_investment = 10000\n",
        "monthly_deposit = 1000\n",
        "\n",
        "    # Start Price\n",
        "start_adjusted_close_price = date_filter['5. adjusted close'][0]\n",
        "starting_shares = initial_investment / start_adjusted_close_price\n",
        "\n",
        "    # End Price\n",
        "end_adjusted_close_price = date_filter['5. adjusted close'][-1]\n",
        "\n",
        "    # Final Math\n",
        "step1_final_value = round((starting_shares * end_adjusted_close_price),2)\n",
        "step1_profit = round((step1_final_value - initial_investment),2)\n",
        "step1_roi = round((step1_final_value - initial_investment) / initial_investment),2)\n",
        "step1_cagr = round(((math.log(step1_final_value/initial_investment)) / (math.log(1+number_of_years))),2)\n",
        "\n",
        "    # Print out results\n",
        "print(\"Total Deposits : {} \".format(initial_investment))\n",
        "print(\"Portfolio Value : {} \".format(step1_final_value))\n",
        "print(\"Investment Profit : {} \".format(step1_profit))\n",
        "print(\"ROI : {} \".format(step1_roi))\n",
        "print(\"CAGR : {} \".format(step1_cagr))"
      ],
      "execution_count": null,
      "outputs": []
    },
    {
      "cell_type": "markdown",
      "metadata": {
        "id": "1MSy5kxDUiXH",
        "colab_type": "text"
      },
      "source": [
        "## Step 2. `$10,000` + `$1,000` Monthly and `100% Position` "
      ]
    },
    {
      "cell_type": "code",
      "metadata": {
        "id": "L7WFwfX7cOCS",
        "colab_type": "code",
        "colab": {}
      },
      "source": [
        "start_date = '2000-01-01'\n",
        "end_date = '2019-12-31'\n",
        "number_of_years = float(end_date - start_date) #should be 20 years ish\n",
        "\n",
        "initial_investment = 10000\n",
        "monthly_deposit = 1000\n",
        "\n",
        "\n",
        "    # step 1\n",
        "date_filter = # range between start_date and end_date to create new dataframe\n",
        "\n",
        "    # step 2 - Get Starting current_balance\n",
        "start_current_balance = initial_investment\n",
        "\n",
        "    # step 3 - get starting current_shares\n",
        "start_adjusted_close_price = date_filter['5. adjusted close'][0]\n",
        "start_current_shares = start_current_balance / start_adjusted_close_price\n",
        "\n",
        "    # Settings for loop\n",
        "current_balance = 0\n",
        "current_shares = 0\n",
        "current_date = 0\n",
        "total_deposits = 0\n",
        "deposit_dates = {} #    date , investment amount \n",
        "\n",
        "deposit_dates.append(start_date, int(initial_investment)) # add starting balance to deposit_dates_list\n",
        "\n",
        "    # step 4 - Itterate trough all the rows in the dataframe and buy shares if it is a new month\n",
        "for index, row in date_filter.iterrows():\n",
        "  \n",
        "    current_date = index # set current index date row to current_date\n",
        "\n",
        "    if current_date #is new month ():\n",
        "        current_balance =+ monthly_deposit # add $1000 to current_balance\n",
        "        current_shares =+ (current_balance / row['5. adjusted close'] ) # figure out how many new shares we are buying \n",
        "        total_deposits =+ 1 # add to total_deposits that we made a new deposit\n",
        "        deposit_dates.append(current_date, int(monthly_deposit)) #add current date for each deposit to the dic \n",
        "    elif:\n",
        "        continue\n",
        "\n",
        "    # Step 6. figure out average age of deposits\n",
        "age_ratio = []\n",
        "\n",
        "for date, deposit in deposit_dates.items(): # loop trough all the deposits in dictironary and figure out age ratio for each deposit\n",
        "    ratio = float(((end_date - date)/365) * deposit)\n",
        "    age_ratio.append(ratio)\n",
        "\n",
        "\n",
        "    # End Price\n",
        "end_adjusted_close_price = date_filter['5. adjusted close'][-1] #get the ending adjusted_close price\n",
        "\n",
        "    # Final Math\n",
        "step2_total_deposits = int((total_deposits * monthly_deposit) + initial_investment)\n",
        "step2_final_value = round((current_shares * end_adjusted_close_price), 2)\n",
        "step2_profit = round((step2_final_value - step2_total_deposits, 2)\n",
        "step2_roi = round((step2_profit / step2_total_deposits), 2)\n",
        "step2_age = round((float(sum(age_ratio) / step2_total_deposits)),2)\n",
        "step2_cagr = round(((math.log(step2_final_value/step2_total_deposits)) / (math.log(1+step2_age))),2)\n",
        "\n",
        "    #print results\n",
        "print(\"Total Deposits : {} \".format(step2_total_deposits))\n",
        "print(\"Portfolio Value : {} \".format(step2_final_value))\n",
        "print(\"Investment Profit : {} \".format(step2_profit))\n",
        "print(\"ROI : {} \".format(step2_roi))\n",
        "print(\"CAGR : {} \".format(step2_cagr))\n",
        "\n"
      ],
      "execution_count": null,
      "outputs": []
    },
    {
      "cell_type": "markdown",
      "metadata": {
        "id": "_eeKs54rN1ZW",
        "colab_type": "text"
      },
      "source": [
        "side experiment with figuring out average age of investment"
      ]
    },
    {
      "cell_type": "code",
      "metadata": {
        "id": "NucDpaY5Nevl",
        "colab_type": "code",
        "colab": {}
      },
      "source": [
        "start_date = '2000-01-01'\n",
        "end_date = '2019-12-31'\n",
        "number_of_years = float(end_date - start_date) #should be 20 years ish\n",
        "\n",
        "initial_investment = 10000\n",
        "monthly_deposit = 1000\n",
        "\n",
        "deposit_dates = {\n",
        "    \n",
        "    }\n",
        "\n",
        "print(deposit_dates)"
      ],
      "execution_count": null,
      "outputs": []
    },
    {
      "cell_type": "markdown",
      "metadata": {
        "id": "rTP4H-OjUtRu",
        "colab_type": "text"
      },
      "source": [
        "## Step 3. `$10,000` + `$1,000` Monthly and `Variable Position` "
      ]
    },
    {
      "cell_type": "markdown",
      "metadata": {
        "id": "GX0tn1esShk2",
        "colab_type": "text"
      },
      "source": [
        "# **Reasearch Notes**"
      ]
    },
    {
      "cell_type": "markdown",
      "metadata": {
        "id": "6abjaof5TaQQ",
        "colab_type": "text"
      },
      "source": [
        "## **Possible structure for the loop**"
      ]
    },
    {
      "cell_type": "code",
      "metadata": {
        "id": "cmBGDErpOanZ",
        "colab_type": "code",
        "colab": {}
      },
      "source": [
        "current_cash = 10000\n",
        "deposit_amount = 1000\n",
        "deposit_frequency = 5 #every 7 days\n",
        "deposit_dates = [] # this list is of dates that a deposit will execute one \n",
        "    # we need to create a loop that will append 7 week to the current date and generate a list of all mondays\n",
        "    # If monday is closed for trading, than we will use next avaiable trading day\n",
        "    # than it resets back to original \n",
        "    # print out the generated deposit dates to test if this works \n",
        "\n",
        "\n",
        "\n",
        "count_trades = 0 #number of times \n",
        "count_deposits = #count number of deposits\n",
        "count_cash_deposited = # count total value of cash that was depoisited \n",
        "count_profit = 0 #total profit of portfolio\n",
        "\n",
        "current_shares_count = 0 # total number of shares owend\n",
        "current_stock_price = 0 # current stock market price\n",
        "\n",
        "\n",
        "\n",
        "for i in df.index:\n",
        "     \n",
        "    current_trading_date = # the next date in the loop trough the dataframe\n",
        "    current_stock_price = # the next stock price in  the loop troough the dataframe\n",
        "    current_market_all_time_high = # this needs to be an if statement\n",
        "        # if current price is above market high than set new current_market_all_time_high\n",
        "        # if its not ,t han the current one stays \n",
        "    current_market_change = current_stock_price - current_market_all_time_high\n",
        "\n",
        "    # Setting market status\n",
        "    current_market_status = current_market_change - current_market_all_time_high\n",
        "    \n",
        "    current_cash_required = # loop based on current marekt status\n",
        "        if current_market_status > 0 than current_cash_required = 0.30\n",
        "        elif current_market_status < 0  >=-5 than current_cash_required = 0.25\n",
        "        elif current_market_status < -5  >=-10 than current_cash_required = 0.20\n",
        "        elif current_market_status < -15  >=-15 than current_cash_required = 0.10\n",
        "\n",
        "\n",
        "    # now that we know market status, we need see if we can deposit or not\n",
        "    if current_trading_date == a date inside the lsit deposit_dates:\n",
        "        current_cash =+ deposit_amount # we deposit the amoutn set into current cash\n",
        "    elif continue \n",
        "\n",
        "    current_cash_equity = current_cash / current_portfolio_value\n",
        "    \n",
        "    # now we need to figure out if we need to buy shares or not\n",
        "    if current_cash_equity > required_cash_equity\n",
        "        stock_purchase_cash = current_cash_equity - required_cash_equity\n",
        "        total_shares_purchased = stock_purchase_cash / current_stock_price\n",
        "        current_shares_count =+ total_shares_purchased\n",
        "\n",
        "    # Now we set current portfolio value \n",
        "    current_portfolio_value = (current_shares_count * current_stock_price) + current_cash\n",
        "\n",
        "    # now we add all of this data to new dataframe that will track the results for each day\n",
        "        # save date, and all the metrics that where set bc of this \n",
        "\n",
        "# Now at the end print out the to tal profit, total tradess, ect \n",
        "\n",
        "\n",
        "\n",
        "\n",
        "\n",
        "\n",
        "\n"
      ],
      "execution_count": null,
      "outputs": []
    },
    {
      "cell_type": "markdown",
      "metadata": {
        "id": "g1dJm3wF1z2J",
        "colab_type": "text"
      },
      "source": [
        "## **Itteration Test**"
      ]
    },
    {
      "cell_type": "code",
      "metadata": {
        "id": "pvlKb1L4a9u5",
        "colab_type": "code",
        "colab": {}
      },
      "source": [
        "    # Creating a list of all days thaht will have a trade executed\n",
        "\n",
        "matches = []\n",
        "for index, row in df.iterrows():\n",
        "    item = index\n",
        "for match in date_list:\n",
        "    if index in match:\n",
        "        matches.append(match)\n",
        "\n",
        "    #print(index, row['1. open'])\n",
        "print(matches)\n",
        "\n"
      ],
      "execution_count": null,
      "outputs": []
    },
    {
      "cell_type": "markdown",
      "metadata": {
        "id": "x80VyFTLd0C8",
        "colab_type": "text"
      },
      "source": [
        "##  **Interacting With DataFrame**"
      ]
    },
    {
      "cell_type": "markdown",
      "metadata": {
        "id": "6CvtpuaWcqAC",
        "colab_type": "text"
      },
      "source": [
        "For each row in the dataframe, displaying the date and the open price"
      ]
    },
    {
      "cell_type": "code",
      "metadata": {
        "id": "D9ss0XXVdW7g",
        "colab_type": "code",
        "colab": {}
      },
      "source": [
        "for index, row in data_daily.iterrows():\n",
        "    print(index, row['1. open'])"
      ],
      "execution_count": null,
      "outputs": []
    },
    {
      "cell_type": "code",
      "metadata": {
        "id": "Zb9mpee-E3r1",
        "colab_type": "code",
        "colab": {}
      },
      "source": [
        "for index, row in data_daily.iterrows():\n",
        "    "
      ],
      "execution_count": null,
      "outputs": []
    },
    {
      "cell_type": "markdown",
      "metadata": {
        "id": "64-OJo7Khm97",
        "colab_type": "text"
      },
      "source": [
        "print out all columns names in dataframe"
      ]
    },
    {
      "cell_type": "code",
      "metadata": {
        "id": "cGCIWmH_hqTS",
        "colab_type": "code",
        "colab": {}
      },
      "source": [
        "for (columnName, columnData) in data_daily.iteritems():\n",
        "   print('Colunm Name : ', columnName)\n",
        "   print('Column Contents : ', columnData.values)"
      ],
      "execution_count": null,
      "outputs": []
    },
    {
      "cell_type": "markdown",
      "metadata": {
        "id": "NqMoTT-TP-SG",
        "colab_type": "text"
      },
      "source": [
        "Plotting Charts"
      ]
    },
    {
      "cell_type": "code",
      "metadata": {
        "id": "LutKOqITP92K",
        "colab_type": "code",
        "colab": {}
      },
      "source": [
        "data_daily['4. close'].plot()\n",
        "plt.title('Stock chart')\n",
        "plt.show()"
      ],
      "execution_count": null,
      "outputs": []
    },
    {
      "cell_type": "markdown",
      "metadata": {
        "id": "7-TQ0kkgdEqI",
        "colab_type": "text"
      },
      "source": [
        "Filtering Date Ranges in the pandas dataframe "
      ]
    },
    {
      "cell_type": "code",
      "metadata": {
        "id": "GAPK4KtcLQ4F",
        "colab_type": "code",
        "colab": {}
      },
      "source": [
        "start_date = \"2019-1-1\"\n",
        "end_date = \"2019-1-31\"\n",
        "\n",
        "after_start_date = data_daily['index'] >= start_date\n",
        "before_end_date = data_daily['index'] <= end_date\n",
        "between_two_dates = after_start_date & before_end_date\n",
        "filtered_dates = df.loc[between_two_dates]\n",
        "\n",
        "print(filtered_dates)"
      ],
      "execution_count": null,
      "outputs": []
    },
    {
      "cell_type": "code",
      "metadata": {
        "id": "bdKwh2XWMiLi",
        "colab_type": "code",
        "colab": {}
      },
      "source": [
        "start_date = '03-01-1996'\n",
        "end_date = '06-01-1997'\n",
        "\n",
        "mask = (df['date'] > start_date) & (df['date'] <= end_date)\n",
        "\n",
        "df = df.loc[mask]\n",
        "df"
      ],
      "execution_count": null,
      "outputs": []
    },
    {
      "cell_type": "markdown",
      "metadata": {
        "id": "xb_4FW2Qg1N5",
        "colab_type": "text"
      },
      "source": [
        ">**Prints Empty DataFrame Error**\n",
        "\n",
        ">```\n",
        "\t1. open\t2. high\t3. low\t4. close\t5. adjusted close\t6. volume\t7. dividend amount\t8. split coefficient\n",
        "date\t\n",
        "```\n",
        "- https://stackoverflow.com/questions/22898824/filtering-pandas-dataframes-on-dates"
      ]
    },
    {
      "cell_type": "code",
      "metadata": {
        "id": "YImkZOCVg7NO",
        "colab_type": "code",
        "colab": {}
      },
      "source": [
        "data_daily.loc[datetime.date(year=2014,month=1,day=1):datetime.date(year=2015,month=2,day=1)]"
      ],
      "execution_count": null,
      "outputs": []
    },
    {
      "cell_type": "code",
      "metadata": {
        "id": "Nf5c6mqAK1Zu",
        "colab_type": "code",
        "colab": {}
      },
      "source": [
        "df.loc['2014-01-01':'2014-02-01']"
      ],
      "execution_count": null,
      "outputs": []
    },
    {
      "cell_type": "markdown",
      "metadata": {
        "id": "lWfBdkSIxaqm",
        "colab_type": "text"
      },
      "source": [
        "Adding days to `start_date` and adding them to `date_list=[]`"
      ]
    },
    {
      "cell_type": "code",
      "metadata": {
        "id": "Q6npiQkybzwg",
        "colab_type": "code",
        "colab": {}
      },
      "source": [
        "# Test example to create a list of possible deposit days\n",
        "date_list = []\n",
        "\n",
        "start_date = datetime.date(2018, 12, 31)\n",
        "end_date = datetime.date(2020, 1, 4)\n",
        "delta = datetime.timedelta(days=30)\n",
        "\n",
        "while start_date <= end_date:\n",
        "    print(start_date)\n",
        "    start_date += delta\n",
        "    date_list.append(start_date)\n",
        "    \n",
        "print(date_list)"
      ],
      "execution_count": null,
      "outputs": []
    }
  ]
}