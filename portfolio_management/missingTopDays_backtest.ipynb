{
  "nbformat": 4,
  "nbformat_minor": 0,
  "metadata": {
    "colab": {
      "name": "missingTopDays_backtest.ipynb",
      "provenance": [],
      "authorship_tag": "ABX9TyMxq00NUNvUbBxtr9Q8l+uA",
      "include_colab_link": true
    },
    "kernelspec": {
      "name": "python3",
      "display_name": "Python 3"
    }
  },
  "cells": [
    {
      "cell_type": "markdown",
      "metadata": {
        "id": "view-in-github",
        "colab_type": "text"
      },
      "source": [
        "<a href=\"https://colab.research.google.com/github/Jakub-MFP/My_FIRE_Project/blob/master/portfolio_management/missingTopDays_backtest.ipynb\" target=\"_parent\"><img src=\"https://colab.research.google.com/assets/colab-badge.svg\" alt=\"Open In Colab\"/></a>"
      ]
    },
    {
      "cell_type": "markdown",
      "metadata": {
        "id": "TBuUB7upt0XT"
      },
      "source": [
        "The full progress and docuemntation of this project can be found here\n",
        "\n",
        "https://myfireproject.com/topic/343-portfolio-management-back-testing-top-days-study-by-chase/"
      ]
    },
    {
      "cell_type": "code",
      "metadata": {
        "id": "PTfm8YA_tu7o"
      },
      "source": [
        ""
      ],
      "execution_count": null,
      "outputs": []
    },
    {
      "cell_type": "markdown",
      "metadata": {
        "id": "_Uu-0r8UtzjZ"
      },
      "source": [
        ""
      ]
    }
  ]
}