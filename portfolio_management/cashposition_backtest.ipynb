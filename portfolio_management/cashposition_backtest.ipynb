{
  "nbformat": 4,
  "nbformat_minor": 0,
  "metadata": {
    "colab": {
      "name": "cashposition_backtest.ipynb",
      "provenance": [],
      "collapsed_sections": [
        "eNeSYqJ-zALj"
      ],
      "mount_file_id": "1rItD0mr6wIoEI5VGOyM1r6r5NAlzEJY1",
      "authorship_tag": "ABX9TyOgf/DGAKbRkQL8uLklV3MN",
      "include_colab_link": true
    },
    "kernelspec": {
      "name": "python3",
      "display_name": "Python 3"
    }
  },
  "cells": [
    {
      "cell_type": "markdown",
      "metadata": {
        "id": "view-in-github",
        "colab_type": "text"
      },
      "source": [
        "<a href=\"https://colab.research.google.com/github/Jakub-MFP/My_FIRE_Project/blob/master/portfolio_management/cashposition_backtest.ipynb\" target=\"_parent\"><img src=\"https://colab.research.google.com/assets/colab-badge.svg\" alt=\"Open In Colab\"/></a>"
      ]
    },
    {
      "cell_type": "markdown",
      "metadata": {
        "id": "eNeSYqJ-zALj",
        "colab_type": "text"
      },
      "source": [
        "# **Project Objective**"
      ]
    },
    {
      "cell_type": "markdown",
      "metadata": {
        "id": "3HrGCk7k1pZF",
        "colab_type": "text"
      },
      "source": [
        "**Problem**\n",
        "\n",
        "Lots of resources advocate for investors to have between 10% to 30% of their portfolio in cash so we can seize upon market opportunities. The problem is that it is never explained when we should have 30% or 20% or 10% cash position, what factors determine how much cash we should have at any given time?\n",
        "\n",
        "\n",
        "**Question**\n",
        "\n",
        "What is the optimal cash position to keep in our portfolio at anytime for the past 20 years. We will assume that our portfolio only has one asset and it is the ETF SPY. Which is an ETF that tracks the SP500 Index and is a good overall indicator for the status of the \"market\"\n",
        "\n",
        "\n",
        "**Hypothesis**\n",
        "\n",
        "I think we will figure out that just investing 100% of the money into a portfolio during our regular deposit cycles and keeping no cash position will under-perform having a cash position at all times. \n",
        "\n",
        "*For example*\n",
        "\n",
        "* If the SPY is up, we keep 30% of our portfolio in cash\n",
        "* IF SPY is down 10% from ATH (all time high) than we keep 20% of portfolio in cash\n",
        "* IF SPY is down 20% from ATH than we keep 10% of portfolio in cash\n",
        "* IF SPY is down 30% from ATH than we keep 5% of portfolio in cash \n",
        "\n",
        "I believe that having a cash position on the side and investing more when the market is down will yield a higher ROI and CAGR over the same 20 year period. \n",
        "\n",
        "If SPY just regular investments returned a 9% CAGR, than I believe doing something as simple as just holding some cash will return 12% CAGR+. Something significant like 30-40% higher returns than otherwise possible. \n",
        "\n",
        "This will be tested not just on SPY but a number of stocks and ETFs with the eventually goal of doing this  with multiple stocks in a portfolio and using the efficient frontier to determine how much we allocate to any stock when the market trigger is in effect to reduce or increase our cash position. \n",
        "\n",
        "**The Procedure**\n",
        "1. We run the experiment to see how much 10,000 in 2000 would yield by end of Dec 2019 with no additional investments. We want to calcualte the CAGR or Compound Annual Growth Rate\n",
        "2. We run another experiment to see how much 10,000 in 2000 would yield by end of Dec 2019 with a 1,000 monthly deposit. Does it change the CAGR? \n",
        "3. Finally we will run a combinatorics trial \n",
        "\n",
        "   1. Start with 10,000\n",
        "        1. Deposit each month 1,000 into portfolio\n",
        "        2. Adjust the invested / cash ratio based on the market performance\n",
        "            1. If the SPY is all time high than keep 70% invested and 30% in cash\n",
        "            2. If the SPY drops 10% from ATM than keep 80% invested and 20% cash\n",
        "            3. If SPY drops 20% from ATM than keep 90% invested and 10% cash\n",
        "            4. If SPY drops 30% from ATM than keep 95% invested and 5% cash\n",
        "        3. Do every combination of cash allocation based on how much market drops between -1% and -50%\n",
        "        4. Calcualte the CAGR for each combination\n",
        "\n",
        "Daily Progress Update \n",
        "https://myfireproject.com/topic/301-portfolio-management-research/\n"
      ]
    },
    {
      "cell_type": "markdown",
      "metadata": {
        "id": "QrSc9hyCyTTU",
        "colab_type": "text"
      },
      "source": [
        "# **Initial Setup**\n",
        "\n",
        "Installs Alpha Vantage and imports required modules"
      ]
    },
    {
      "cell_type": "markdown",
      "metadata": {
        "id": "3QkSnHK28IKm",
        "colab_type": "text"
      },
      "source": [
        "**Install Alpha Vantage API**"
      ]
    },
    {
      "cell_type": "code",
      "metadata": {
        "id": "CDxEHz7O6Trc",
        "colab_type": "code",
        "colab": {}
      },
      "source": [
        "# Install Alpha Vantage\n",
        "!pip install alpha_vantage"
      ],
      "execution_count": null,
      "outputs": []
    },
    {
      "cell_type": "markdown",
      "metadata": {
        "id": "CqNfq4rD8OpN",
        "colab_type": "text"
      },
      "source": [
        "**Import All The Modules You Need**"
      ]
    },
    {
      "cell_type": "code",
      "metadata": {
        "id": "UgIiQsAU6eEY",
        "colab_type": "code",
        "colab": {}
      },
      "source": [
        "import pandas as pd\n",
        "import json\n",
        "import requests\n",
        "import sqlite3\n",
        "import time\n",
        "import datetime\n",
        "import numpy as np\n",
        "import matplotlib.pyplot as plt \n",
        "import sys\n",
        "import math\n",
        "\n",
        "from pandas import DataFrame\n",
        "from datetime import datetime as dt\n",
        "from alpha_vantage.timeseries import TimeSeries\n",
        "from dateutil.relativedelta import relativedelta\n",
        "from math import log"
      ],
      "execution_count": 153,
      "outputs": []
    },
    {
      "cell_type": "markdown",
      "metadata": {
        "id": "U89l7OEW7rD8",
        "colab_type": "text"
      },
      "source": [
        "# **Alpaha Vantage API**\n",
        "\n",
        "This will create a pandas dataframe of all historical prices\n",
        "\n",
        "https://www.alphavantage.co/documentation/\n",
        "\n"
      ]
    },
    {
      "cell_type": "markdown",
      "metadata": {
        "id": "ekv9oXJIfIgq",
        "colab_type": "text"
      },
      "source": [
        "Assign Stock Ticker and API Key"
      ]
    },
    {
      "cell_type": "code",
      "metadata": {
        "id": "jPV1I0AuZpyj",
        "colab_type": "code",
        "colab": {}
      },
      "source": [
        "stock_ticker = 'SPY'\n",
        "   \n",
        "    # Update this for your own API key\n",
        "api_key = open('/content/drive/My Drive/Colab Notebooks/key').read()\n",
        "#api_key = '4545sdsad5s4dsd'"
      ],
      "execution_count": null,
      "outputs": []
    },
    {
      "cell_type": "markdown",
      "metadata": {
        "id": "8KsdsNvZfP34",
        "colab_type": "text"
      },
      "source": [
        "Run API Request to get stock data\n",
        "\n",
        "    # Date / Open / High / Low / Close / Adjusted Close / Volume / Dividend / Split"
      ]
    },
    {
      "cell_type": "code",
      "metadata": {
        "id": "JweN40qJZsto",
        "colab_type": "code",
        "colab": {}
      },
      "source": [
        "ts = TimeSeries (key=api_key, output_format = \"pandas\")\n",
        "data_daily, meta_data = ts.get_daily_adjusted(symbol=stock_ticker, outputsize ='full')"
      ],
      "execution_count": null,
      "outputs": []
    },
    {
      "cell_type": "markdown",
      "metadata": {
        "id": "A5DCPlBJfi9E",
        "colab_type": "text"
      },
      "source": [
        "Assign metrics from dataframe to individual variables"
      ]
    },
    {
      "cell_type": "code",
      "metadata": {
        "id": "V6IgGIOKZwzh",
        "colab_type": "code",
        "colab": {}
      },
      "source": [
        "    # data_daily['column name'][row number] \n",
        "# stock_price_open = data_daily['1. open'][0]\n",
        "# stock_price_close = data_daily['5. adjusted close'][0]\n",
        "# dividend_amount = data_daily['7. dividend amount'][0]"
      ],
      "execution_count": null,
      "outputs": []
    },
    {
      "cell_type": "markdown",
      "metadata": {
        "id": "ak-ip1H-RIUo",
        "colab_type": "text"
      },
      "source": [
        "#**Procedure**\n",
        "Investment Period = Jan 1, 2000 to Dec 31, 2019\n",
        "1. ***ROI*** and ***CAGR*** of Investing `$10,000` and just allocating `100%` Position\n",
        "2. ***ROI*** and ***CAGR*** of Investing `$10,000` and depositing `$1,000` each month and allocating `100%` position \n",
        "3. ***ROI*** and ***CAGR*** of Investing `$10,000` and depositing `$1,000` each month and allocating a `variable` position using `market_status`"
      ]
    },
    {
      "cell_type": "markdown",
      "metadata": {
        "id": "5b8CJ_yZUSlH",
        "colab_type": "text"
      },
      "source": [
        "## Step 1. `$10,000` and `100% Position` "
      ]
    },
    {
      "cell_type": "markdown",
      "metadata": {
        "id": "NJX98F2LVKWj",
        "colab_type": "text"
      },
      "source": [
        "1. The goal is to get the dataframe to start on `start_date` and end on `end_date`\n",
        "2. Grab the `adjusted_close_price` for `start_date` or the next trading day therafter. \n",
        "3. `starting_shares` = `initial_investment` / `adjusted_close_price` for the `start_date`\n",
        "4. Grab the `adjusted_close_price` for the `end_date` \n",
        "5. `step1_final_value` = `starting_shares` * `adjusted_close_price`\n",
        "6. `step1_roi` = (`step1_final_value` - `initial_investment`) / `initial_investment`\n",
        "7. `step7_cagr` = round(((math.log(`step1_final_value`/`initial_investment`)) / (math.log(1+`number_of_years`))),2)"
      ]
    },
    {
      "cell_type": "code",
      "metadata": {
        "id": "xe5-7CHdZUdW",
        "colab_type": "code",
        "colab": {
          "base_uri": "https://localhost:8080/",
          "height": 204
        },
        "outputId": "a537a89c-b293-47ac-b20b-a64fe28de3af"
      },
      "source": [
        "start_date = datetime.datetime(2000, 1, 1)\n",
        "end_date = datetime.datetime(2019, 12, 31)\n",
        "time_difference = relativedelta(end_date, start_date)\n",
        "number_of_years = time_difference.years + 1\n",
        "\n",
        "date_filter = data_daily[(data_daily.index > start_date) & (data_daily.index <= end_date)]\n",
        "\n",
        "    # Starting Settings\n",
        "initial_investment = 10000\n",
        "monthly_deposit = 1000\n",
        "\n",
        "    # Start Price\n",
        "start_adjusted_close_price = date_filter['5. adjusted close'][-1]\n",
        "starting_shares = initial_investment / start_adjusted_close_price\n",
        "\n",
        "    # End Price\n",
        "\n",
        "end_adjusted_close_price = date_filter['5. adjusted close'][0]\n",
        "\n",
        "\n",
        "    # Final Math\n",
        "step1_final_value = round((starting_shares * end_adjusted_close_price), 2)\n",
        "step1_profit = round((step1_final_value - initial_investment), 2)\n",
        "step1_roi = round((((step1_final_value - initial_investment) / initial_investment)* 100), 2)\n",
        "step1_cagr = round((((step1_final_value / initial_investment) ** (1 / (number_of_years - 1)) - 1)* 100), 2)\n",
        "\n",
        "    # Print out results\n",
        "\n",
        "print(\"Start Share Price : ${} \".format(start_adjusted_close_price))\n",
        "print(\"Starting Shares : {} \".format(starting_shares))\n",
        "print(\"Number of years : {} \".format(number_of_years))\n",
        "print(\"\")\n",
        "\n",
        "print(\"Ending Share Price : ${} \".format(end_adjusted_close_price))\n",
        "print(\"\")\n",
        "print(\"Total Deposits : ${} \".format(initial_investment))\n",
        "print(\"Portfolio Value : ${} \".format(step1_final_value))\n",
        "print(\"Investment Profit : ${} \".format(step1_profit))\n",
        "print(\"ROI : {}% \".format(step1_roi))\n",
        "print(\"CAGR : {}% \".format(step1_cagr))"
      ],
      "execution_count": 185,
      "outputs": [
        {
          "output_type": "stream",
          "text": [
            "Start Share Price : $98.5115 \n",
            "Starting Shares : 101.51099110256163 \n",
            "Number of years : 20 \n",
            "\n",
            "Ending Share Price : $317.2003 \n",
            "\n",
            "Total Deposits : $10000 \n",
            "Portfolio Value : $32199.32 \n",
            "Investment Profit : $22199.32 \n",
            "ROI : 221.99% \n",
            "CAGR : 6.35% \n"
          ],
          "name": "stdout"
        }
      ]
    },
    {
      "cell_type": "markdown",
      "metadata": {
        "id": "1MSy5kxDUiXH",
        "colab_type": "text"
      },
      "source": [
        "## Step 2. `$10,000` + `$1,000` Monthly and `100% Position` "
      ]
    },
    {
      "cell_type": "code",
      "metadata": {
        "id": "L7WFwfX7cOCS",
        "colab_type": "code",
        "colab": {}
      },
      "source": [
        "start_date = datetime.datetime(2000, 1, 1)\n",
        "end_date = datetime.datetime(2019, 12, 31)\n",
        "time_difference = relativedelta(end_date, start_date)\n",
        "number_of_years = time_difference.years + 1\n",
        "\n",
        "initial_investment = 1000\n",
        "monthly_deposit = 1000\n",
        "\n",
        "\n",
        "    # Create a filtered dataframe, and change the order it is displayed. \n",
        "date_filter = data_daily[(data_daily.index > start_date) & (data_daily.index <= end_date)]\n",
        "date_filter = date_filter.sort_index(ascending=True)\n",
        "\n",
        "    # Set starting balances\n",
        "start_current_balance = initial_investment\n",
        "start_adjusted_close_price = date_filter['5. adjusted close'][0]\n",
        "start_current_shares = start_current_balance / start_adjusted_close_price\n",
        "\n",
        "    # Settings for loop\n",
        "current_balance = 0\n",
        "current_shares = 0\n",
        "deposit_month = 1\n",
        "total_deposits_count = 0\n",
        "\n",
        "    # Settings to create age of investments\n",
        "transactions = [] # log all dates and transactions amounts\n",
        "transactions.append([start_date, initial_investment])\n",
        "\n",
        "    # add starting balance to deposit_dates_list\n",
        "# deposit_dates.append(start_date, int(initial_investment))\n",
        "#deposit_dates[start_date] = int(initial_investment)\n",
        "\n",
        "    # step 4 - Itterate trough all the rows in the dataframe and buy shares if it is a new month\n",
        "for index, row in date_filter.iterrows():\n",
        "\n",
        "    current_date = str(index) # set current index date row to current_date \n",
        "    current_month = int(current_date[5:7]) # grab the current month segement from current date\n",
        "\n",
        "    if current_month != deposit_month: # if it is a new month than run loop\n",
        "        current_balance += monthly_deposit # add $1000 to current_balance\n",
        "        shares_purchased = (current_balance / row['5. adjusted close'])\n",
        "        current_shares += (current_balance / row['5. adjusted close']) # figure out how many new shares we are buying \n",
        "        total_deposits_count += 1 # add to total_deposits that we made a new deposit\n",
        "        current_balance -= monthly_deposit # take of $1000 deposit for purchase of shares\n",
        "\n",
        "        new_date = index\n",
        "        new_transaction = monthly_deposit\n",
        "        transactions.append([new_date, new_transaction]) #add current date for each deposit to the dic \n",
        "        \n",
        "        deposit_month = current_month\n",
        "        #print(deposit_month)\n",
        "        #print(shares_purchased)\n",
        "        \n",
        "    else:\n",
        "        continue\n",
        "\n",
        "    # Figure out average age of deposits\n",
        "age_list = []\n",
        "for trans_date, deposit in transactions: # for items in list transactions\n",
        "    calculation = (end_date - trans_date) #get difference in days\n",
        "    age_years = float((int(calculation.days))/365) # convert to how many years\n",
        "    age_weights = age_years * deposit #figure out the weight of each dollar invested\n",
        "    age_list.append(age_weights) #add to list\n",
        "\n",
        "\n",
        "age_ratio = sum(age_list)\n",
        "\n",
        "\n",
        "\n",
        "    # Ending Metrics\n",
        "end_adjusted_close_price = date_filter['5. adjusted close'][-1]\n",
        "final_balance = round((current_shares * end_adjusted_close_price), 2)\n",
        "total_deposits = int((total_deposits_count * monthly_deposit) + initial_investment)\n",
        "investment_profit = final_balance - total_deposits\n",
        "roi = round(((investment_profit / total_deposits) * 100), 2)\n",
        "age = age_ratio / total_deposits\n",
        "cagr = round((((final_balance / total_deposits) ** (1 / (age - 1)) - 1)* 100), 2)"
      ],
      "execution_count": 192,
      "outputs": []
    },
    {
      "cell_type": "markdown",
      "metadata": {
        "id": "Wj5Nbt4U-aeR",
        "colab_type": "text"
      },
      "source": [
        "Analysis"
      ]
    },
    {
      "cell_type": "code",
      "metadata": {
        "id": "gf8F7cDP7bqW",
        "colab_type": "code",
        "colab": {
          "base_uri": "https://localhost:8080/",
          "height": 374
        },
        "outputId": "48849149-68af-41cf-e4e4-47496db367a6"
      },
      "source": [
        "print(\"STARTING METRICS\")\n",
        "print(\"Initial Balance : $ {} \".format(start_current_balance))\n",
        "print(\"Share Price : $ {} \".format(start_adjusted_close_price))\n",
        "print(\"Purchased Shares : {} \".format(starting_shares))\n",
        "\n",
        "print(\"\")\n",
        "print(\"-----------------------------------------------------------\")\n",
        "print(\"\")\n",
        "\n",
        "print(\"ENDING METRICS\")\n",
        "print(\"Number of years : {} \".format(number_of_years))\n",
        "print(\"Average Age of each Dollar invested : {} years \".format(age))\n",
        "print(\"Share Price : $ {} \".format(end_adjusted_close_price))\n",
        "print(\"Final Shares : {} \".format(current_shares))\n",
        "\n",
        "print(\"\")\n",
        "print(\"-----------------------------------------------------------\")\n",
        "print(\"\")\n",
        "\n",
        "print(\"RESULTS\")\n",
        "print(\"Total Deposits : $ {} \".format(total_deposits))\n",
        "print(\"Final Balance : $ {} \".format(final_balance))\n",
        "print(\"Investment Profit : ${} \".format(investment_profit))\n",
        "print(\"ROI : {}% \".format(roi))\n",
        "print(\"CAGR : {}% \".format(cagr))"
      ],
      "execution_count": 191,
      "outputs": [
        {
          "output_type": "stream",
          "text": [
            "STARTING METRICS\n",
            "Initial Balance : $ 10000 \n",
            "Share Price : $ 98.5115 \n",
            "Purchased Shares : 101.51099110256163 \n",
            "\n",
            "-----------------------------------------------------------\n",
            "\n",
            "ENDING METRICS\n",
            "Number of years : 20 \n",
            "Average Age of each Dollar invested : 10.024342951926098 years \n",
            "Share Price : $ 317.2003 \n",
            "Final Shares : 43675.943714604946 \n",
            "\n",
            "-----------------------------------------------------------\n",
            "\n",
            "RESULTS\n",
            "Total Deposits : $ 4790000 \n",
            "Final Balance : $ 13854022.45 \n",
            "Investment Profit : $9064022.45 \n",
            "ROI : 189.23% \n",
            "CAGR : 12.49% \n"
          ],
          "name": "stdout"
        }
      ]
    },
    {
      "cell_type": "markdown",
      "metadata": {
        "id": "rTP4H-OjUtRu",
        "colab_type": "text"
      },
      "source": [
        "## Step 3. `$10,000` + `$1,000` Monthly and `Variable Position` "
      ]
    },
    {
      "cell_type": "code",
      "metadata": {
        "id": "NLT_UEJ-R-jp",
        "colab_type": "code",
        "colab": {
          "base_uri": "https://localhost:8080/",
          "height": 231
        },
        "outputId": "dd31538a-ba12-42c4-8b27-bd387e31a50b"
      },
      "source": [
        "start_date = datetime.datetime(2000, 1, 1)\n",
        "end_date = datetime.datetime(2019, 12, 31)\n",
        "time_difference = relativedelta(end_date, start_date)\n",
        "number_of_years = time_difference.years + 1\n",
        "\n",
        "initial_investment = 1000\n",
        "monthly_deposit = 1000\n",
        "\n",
        "\n",
        "    # Create a filtered dataframe, and change the order it is displayed. \n",
        "date_filter = data_daily[(data_daily.index > start_date) & (data_daily.index <= end_date)]\n",
        "date_filter = date_filter.sort_index(ascending=True)\n",
        "\n",
        "\n",
        "    # Set starting balances\n",
        "start_current_balance = initial_investment\n",
        "start_adjusted_close_price = date_filter['5. adjusted close'][0]\n",
        "start_current_shares = start_current_balance / start_adjusted_close_price\n",
        "\n",
        "    # Settings for loop\n",
        "current_balance = 0\n",
        "portfolio_value = 0\n",
        "current_shares = 0\n",
        "deposit_month = 1\n",
        "total_deposits_count = 0\n",
        "total_shares_purchases_count = 0\n",
        "\n",
        "    # Creating all the lists we need\n",
        "transactions_deposits = [] #log every deposit in dictionary \n",
        "transactions.append([start_date, initial_investment])\n",
        "transactions_trades = [] #log every trade in dictrionary\n",
        "market_status_list = [] #log every market status for each day\n",
        "\n",
        "    # settings for market status\n",
        "market_all_time_high = date_filter['5. adjusted close'][0] #defautl all time high is the first price of the share \n",
        "\n",
        "    # Main Loop\n",
        "for index, row in date_filter.iterrows():\n",
        "\n",
        "    current_date = str(index) # set current index date row to current_date \n",
        "    current_month = int(current_date[5:7]) # grab the current month segement from current date\n",
        "\n",
        "    if current_month != deposit_month: # if it is a new month than run loop\n",
        "        current_balance += monthly_deposit # add $1000 to current_balance\n",
        "        total_deposits_count += 1 # add to total_deposits that we made a new deposit\n",
        "        new_date = index\n",
        "        new_transaction = monthly_deposit\n",
        "        transactions.append([new_date, new_transaction]) #add current date for each deposit to the dic \n",
        "        deposit_month = current_month #set the deposit month to be current month\n",
        "        \n",
        "    else:\n",
        "        continue\n",
        "\n",
        "    # Figure out what the market status is, if it is down or up compared to all time high\n",
        "    current_market_price = row['5. adjusted close'] #setting current market price to current row\n",
        "\n",
        "    if (current_market_price > market_all_time_high): #checking if the current price is a new record for all time high\n",
        "        market_all_time_high = current_market_price\n",
        "    else:\n",
        "        continue\n",
        "\n",
        "    current_market_change = float(current_market_price - market_all_time_high) # dollar value difference between all time high and current price\n",
        "    current_market_rating = float(current_market_change / market_all_time_high) # % difereance gain or drop from all time high\n",
        "    market_status_list.append([current_date, current_market_price, market_all_time_high, current_market_change, current_market_rating]) #logs market status into our list\n",
        "\n",
        "\n",
        "        # How much cash do we need to kee on hand based on the market status\n",
        "            # https://www.tutorialspoint.com/python/comparison_operators_example.htm\n",
        "    if (current_market_status > 0):  #greater than 0\n",
        "        current_cash_required_equity = 0.30\n",
        "    elif (current_market_status > -0.05): #less than 5%\n",
        "        current_cash_required_equity = 0.25\n",
        "    elif (current_market_status > -0.10): #less than 10%\n",
        "        current_cash_required_equity = 0.20 \n",
        "    elif (current_market_status > -0.15): #less than 15%\n",
        "        current_cash_required_equity = 0.15\n",
        "    elif (current_market_status > -0.20): #less than 20%\n",
        "        current_cash_required_equity = 0.10\n",
        "    elif (current_market_status > -0.25): #less than 25%\n",
        "        current_cash_required_equity = 0.05\n",
        "    elif (current_market_status > -0.30): #less than 30%\n",
        "        current_cash_required_equity = 0\n",
        "\n",
        "        # What is our current cash balance, and portfolio value\n",
        "    portfolio_value = float((current_balance + (current_shares * current_market_price))) #figuring out the total value of portfolio\n",
        "    current_cash_required = float(current_cash_required_equity * portfolio_value) #figuring ouit the dollar cash amount we need to keep in portoflio \n",
        "\n",
        "        # How many shares do we need to buy if any based on market status\n",
        "    if (current_cash_required < current_balance): \n",
        "        cash_to_purchase_shares = float(current_balance - current_cash_required)\n",
        "        current_shares =+ (cash_to_purchase_shares / row['5. adjusted close'] ) # figure out how many new shares we are buying\n",
        "        current_balance =- (cash_to_purchase_shares) # adjust current balance for shares purchased\n",
        "        total_shares_purchases_count =+ 1 # add 1 to total count\n",
        "        portfolio_trades.append(current_date, cash_to_purchase_shares, current_shares, current_balance)\n",
        "    else:\n",
        "        continue\n",
        "  \n",
        "\n",
        "    # Figure out average age of deposits\n",
        "age_list = []\n",
        "for trans_date, deposit in transactions: # for items in list transactions\n",
        "    calculation = (end_date - trans_date) #get difference in days\n",
        "    age_years = float((int(calculation.days))/365) # convert to how many years\n",
        "    age_weights = age_years * deposit #figure out the weight of each dollar invested\n",
        "    age_list.append(age_weights) #add to list\n",
        "\n",
        "age_ratio = sum(age_list)\n",
        "\n",
        "\n",
        "\n",
        "    # Ending Metrics\n",
        "end_adjusted_close_price = date_filter['5. adjusted close'][-1]\n",
        "final_balance = round((current_shares * end_adjusted_close_price), 2)\n",
        "total_deposits = int((total_deposits_count * monthly_deposit) + initial_investment)\n",
        "investment_profit = final_balance - total_deposits\n",
        "roi = round(((investment_profit / total_deposits) * 100), 2)\n",
        "age = age_ratio / total_deposits\n",
        "cagr = round((((final_balance / total_deposits) ** (1 / (age - 1)) - 1)* 100), 2)\n"
      ],
      "execution_count": 200,
      "outputs": [
        {
          "output_type": "error",
          "ename": "NameError",
          "evalue": "ignored",
          "traceback": [
            "\u001b[0;31m---------------------------------------------------------------------------\u001b[0m",
            "\u001b[0;31mNameError\u001b[0m                                 Traceback (most recent call last)",
            "\u001b[0;32m<ipython-input-200-d048a9c4b43c>\u001b[0m in \u001b[0;36m<module>\u001b[0;34m()\u001b[0m\n\u001b[1;32m     91\u001b[0m         \u001b[0mcurrent_balance\u001b[0m \u001b[0;34m=\u001b[0m\u001b[0;34m-\u001b[0m \u001b[0;34m(\u001b[0m\u001b[0mcash_to_purchase_shares\u001b[0m\u001b[0;34m)\u001b[0m \u001b[0;31m# adjust current balance for shares purchased\u001b[0m\u001b[0;34m\u001b[0m\u001b[0;34m\u001b[0m\u001b[0m\n\u001b[1;32m     92\u001b[0m         \u001b[0mtotal_shares_purchases_count\u001b[0m \u001b[0;34m=\u001b[0m\u001b[0;34m+\u001b[0m \u001b[0;36m1\u001b[0m \u001b[0;31m# add 1 to total count\u001b[0m\u001b[0;34m\u001b[0m\u001b[0;34m\u001b[0m\u001b[0m\n\u001b[0;32m---> 93\u001b[0;31m         \u001b[0mportfolio_trades\u001b[0m\u001b[0;34m.\u001b[0m\u001b[0mappend\u001b[0m\u001b[0;34m(\u001b[0m\u001b[0mcurrent_date\u001b[0m\u001b[0;34m,\u001b[0m \u001b[0mcash_to_purchase_shares\u001b[0m\u001b[0;34m,\u001b[0m \u001b[0mcurrent_shares\u001b[0m\u001b[0;34m,\u001b[0m \u001b[0mcurrent_balance\u001b[0m\u001b[0;34m)\u001b[0m\u001b[0;34m\u001b[0m\u001b[0;34m\u001b[0m\u001b[0m\n\u001b[0m\u001b[1;32m     94\u001b[0m     \u001b[0;32melse\u001b[0m\u001b[0;34m:\u001b[0m\u001b[0;34m\u001b[0m\u001b[0;34m\u001b[0m\u001b[0m\n\u001b[1;32m     95\u001b[0m         \u001b[0;32mcontinue\u001b[0m\u001b[0;34m\u001b[0m\u001b[0;34m\u001b[0m\u001b[0m\n",
            "\u001b[0;31mNameError\u001b[0m: name 'portfolio_trades' is not defined"
          ]
        }
      ]
    },
    {
      "cell_type": "markdown",
      "metadata": {
        "id": "EiBy-O2vcKOG",
        "colab_type": "text"
      },
      "source": [
        "Analysis"
      ]
    },
    {
      "cell_type": "code",
      "metadata": {
        "id": "kk8qCNjxcLKD",
        "colab_type": "code",
        "colab": {}
      },
      "source": [
        "print(\"STARTING METRICS\")\n",
        "print(\"Initial Balance : $ {} \".format(start_current_balance))\n",
        "print(\"Share Price : $ {} \".format(start_adjusted_close_price))\n",
        "print(\"Purchased Shares : {} \".format(starting_shares))\n",
        "\n",
        "print(\"\")\n",
        "print(\"-----------------------------------------------------------\")\n",
        "print(\"\")\n",
        "\n",
        "print(\"ENDING METRICS\")\n",
        "print(\"Number of years : {} \".format(number_of_years))\n",
        "print(\"Average Age of each Dollar invested : {} years \".format(age))\n",
        "print(\"Share Price : $ {} \".format(end_adjusted_close_price))\n",
        "print(\"Final Shares : {} \".format(current_shares))\n",
        "\n",
        "print(\"\")\n",
        "print(\"-----------------------------------------------------------\")\n",
        "print(\"\")\n",
        "\n",
        "print(\"RESULTS\")\n",
        "print(\"Total Deposits : $ {} \".format(total_deposits))\n",
        "print(\"Final Balance : $ {} \".format(final_balance))\n",
        "print(\"Investment Profit : ${} \".format(investment_profit))\n",
        "print(\"ROI : {}% \".format(roi))\n",
        "print(\"CAGR : {}% \".format(cagr))"
      ],
      "execution_count": null,
      "outputs": []
    },
    {
      "cell_type": "markdown",
      "metadata": {
        "id": "GX0tn1esShk2",
        "colab_type": "text"
      },
      "source": [
        "# **Reasearch Notes**"
      ]
    },
    {
      "cell_type": "markdown",
      "metadata": {
        "id": "Anrm5eawv-iC",
        "colab_type": "text"
      },
      "source": [
        "Testing out elif loops"
      ]
    },
    {
      "cell_type": "code",
      "metadata": {
        "id": "CcXeZvbvv_5m",
        "colab_type": "code",
        "colab": {
          "base_uri": "https://localhost:8080/",
          "height": 34
        },
        "outputId": "8a9fe4c3-d393-4f31-c82a-016a400cd0ad"
      },
      "source": [
        "current_cash_required = 0\n",
        "current_market_status = -0.09\n",
        "\n",
        "if (current_market_status > 0):  #greater than 0\n",
        "    current_cash_required_equity = 0.30\n",
        "elif (current_market_status > -0.05): #less than 5%\n",
        "    current_cash_required_equity = 0.25\n",
        "elif (current_market_status > -0.10): #less than 10%\n",
        "    current_cash_required_equity = 0.20 \n",
        "elif (current_market_status > -0.15): #less than 15%\n",
        "    current_cash_required_equity = 0.15\n",
        "elif (current_market_status > -0.20): #less than 20%\n",
        "    current_cash_required_equity = 0.10\n",
        "elif (current_market_status > -0.25): #less than 25%\n",
        "    current_cash_required_equity = 0.05\n",
        "elif (current_market_status > -0.30): #less than 30%\n",
        "    current_cash_required_equity = 0\n",
        "\n",
        "print(float(current_cash_required_equity))"
      ],
      "execution_count": 194,
      "outputs": [
        {
          "output_type": "stream",
          "text": [
            "0.2\n"
          ],
          "name": "stdout"
        }
      ]
    },
    {
      "cell_type": "markdown",
      "metadata": {
        "id": "6abjaof5TaQQ",
        "colab_type": "text"
      },
      "source": [
        "## **Possible structure for the loop**"
      ]
    },
    {
      "cell_type": "code",
      "metadata": {
        "id": "cmBGDErpOanZ",
        "colab_type": "code",
        "colab": {
          "base_uri": "https://localhost:8080/",
          "height": 129
        },
        "outputId": "8c08e126-ca90-4269-dd87-df75ab96dcdb"
      },
      "source": [
        "current_cash = 10000\n",
        "deposit_amount = 1000\n",
        "deposit_frequency = 5 #every 7 days\n",
        "deposit_dates = [] # this list is of dates that a deposit will execute one \n",
        "    # we need to create a loop that will append 7 week to the current date and generate a list of all mondays\n",
        "    # If monday is closed for trading, than we will use next avaiable trading day\n",
        "    # than it resets back to original \n",
        "    # print out the generated deposit dates to test if this works \n",
        "\n",
        "\n",
        "\n",
        "count_trades = 0 #number of times \n",
        "count_deposits = 0 #count number of deposits\n",
        "count_cash_deposited = 0 # count total value of cash that was depoisited \n",
        "count_profit = 0 #total profit of portfolio\n",
        "\n",
        "current_shares_count = 0 # total number of shares owend\n",
        "current_stock_price = 0 # current stock market price\n",
        "\n",
        "\n",
        "\n",
        "for i in df.index:\n",
        "     \n",
        "    current_trading_date = # the next date in the loop trough the dataframe\n",
        "    current_stock_price = # the next stock price in  the loop troough the dataframe\n",
        "    current_market_all_time_high = # this needs to be an if statement\n",
        "        # if current price is above market high than set new current_market_all_time_high\n",
        "        # if its not ,t han the current one stays \n",
        "    current_market_change = current_stock_price - current_market_all_time_high\n",
        "\n",
        "    # Setting market status\n",
        "    current_market_status = current_market_change - current_market_all_time_high\n",
        "    \n",
        "    current_cash_required = # loop based on current marekt status\n",
        "        if current_market_status > 0 than current_cash_required = 0.30\n",
        "        elif current_market_status < 0  >=-5 than current_cash_required = 0.25\n",
        "        elif current_market_status < -5  >=-10 than current_cash_required = 0.20\n",
        "        elif current_market_status < -15  >=-15 than current_cash_required = 0.10\n",
        "\n",
        "\n",
        "    # now that we know market status, we need see if we can deposit or not\n",
        "    if current_trading_date == a date inside the lsit deposit_dates:\n",
        "        current_cash =+ deposit_amount # we deposit the amoutn set into current cash\n",
        "    elif continue \n",
        "\n",
        "    current_cash_equity = current_cash / current_portfolio_value\n",
        "    \n",
        "    # now we need to figure out if we need to buy shares or not\n",
        "    if current_cash_equity > required_cash_equity\n",
        "        stock_purchase_cash = current_cash_equity - required_cash_equity\n",
        "        total_shares_purchased = stock_purchase_cash / current_stock_price\n",
        "        current_shares_count =+ total_shares_purchased\n",
        "\n",
        "    # Now we set current portfolio value \n",
        "    current_portfolio_value = (current_shares_count * current_stock_price) + current_cash\n",
        "\n",
        "    # now we add all of this data to new dataframe that will track the results for each day\n",
        "        # save date, and all the metrics that where set bc of this \n",
        "\n",
        "# Now at the end print out the to tal profit, total tradess, ect \n"
      ],
      "execution_count": 195,
      "outputs": [
        {
          "output_type": "error",
          "ename": "SyntaxError",
          "evalue": "ignored",
          "traceback": [
            "\u001b[0;36m  File \u001b[0;32m\"<ipython-input-195-f5e738be81ed>\"\u001b[0;36m, line \u001b[0;32m24\u001b[0m\n\u001b[0;31m    current_trading_date = # the next date in the loop trough the dataframe\u001b[0m\n\u001b[0m                                                                           ^\u001b[0m\n\u001b[0;31mSyntaxError\u001b[0m\u001b[0;31m:\u001b[0m invalid syntax\n"
          ]
        }
      ]
    },
    {
      "cell_type": "markdown",
      "metadata": {
        "id": "g1dJm3wF1z2J",
        "colab_type": "text"
      },
      "source": [
        "## **Itteration Test**"
      ]
    },
    {
      "cell_type": "code",
      "metadata": {
        "id": "pvlKb1L4a9u5",
        "colab_type": "code",
        "colab": {}
      },
      "source": [
        "    # Creating a list of all days thaht will have a trade executed\n",
        "\n",
        "matches = []\n",
        "for index, row in df.iterrows():\n",
        "    item = index\n",
        "for match in date_list:\n",
        "    if index in match:\n",
        "        matches.append(match)\n",
        "\n",
        "    #print(index, row['1. open'])\n",
        "print(matches)\n",
        "\n"
      ],
      "execution_count": null,
      "outputs": []
    },
    {
      "cell_type": "markdown",
      "metadata": {
        "id": "x80VyFTLd0C8",
        "colab_type": "text"
      },
      "source": [
        "##  **Interacting With DataFrame**"
      ]
    },
    {
      "cell_type": "markdown",
      "metadata": {
        "id": "6CvtpuaWcqAC",
        "colab_type": "text"
      },
      "source": [
        "For each row in the dataframe, displaying the date and the open price"
      ]
    },
    {
      "cell_type": "code",
      "metadata": {
        "id": "D9ss0XXVdW7g",
        "colab_type": "code",
        "colab": {}
      },
      "source": [
        "for index, row in data_daily.iterrows():\n",
        "    print(index, row['1. open'])"
      ],
      "execution_count": null,
      "outputs": []
    },
    {
      "cell_type": "code",
      "metadata": {
        "id": "Zb9mpee-E3r1",
        "colab_type": "code",
        "colab": {}
      },
      "source": [
        "for index, row in data_daily.iterrows():\n",
        "    "
      ],
      "execution_count": null,
      "outputs": []
    },
    {
      "cell_type": "markdown",
      "metadata": {
        "id": "64-OJo7Khm97",
        "colab_type": "text"
      },
      "source": [
        "print out all columns names in dataframe"
      ]
    },
    {
      "cell_type": "code",
      "metadata": {
        "id": "cGCIWmH_hqTS",
        "colab_type": "code",
        "colab": {}
      },
      "source": [
        "for (columnName, columnData) in data_daily.iteritems():\n",
        "   print('Colunm Name : ', columnName)\n",
        "   print('Column Contents : ', columnData.values)"
      ],
      "execution_count": null,
      "outputs": []
    },
    {
      "cell_type": "markdown",
      "metadata": {
        "id": "NqMoTT-TP-SG",
        "colab_type": "text"
      },
      "source": [
        "Plotting Charts"
      ]
    },
    {
      "cell_type": "code",
      "metadata": {
        "id": "LutKOqITP92K",
        "colab_type": "code",
        "colab": {}
      },
      "source": [
        "data_daily['4. close'].plot()\n",
        "plt.title('Stock chart')\n",
        "plt.show()"
      ],
      "execution_count": null,
      "outputs": []
    },
    {
      "cell_type": "markdown",
      "metadata": {
        "id": "7-TQ0kkgdEqI",
        "colab_type": "text"
      },
      "source": [
        "Filtering Date Ranges in the pandas dataframe "
      ]
    },
    {
      "cell_type": "code",
      "metadata": {
        "id": "GAPK4KtcLQ4F",
        "colab_type": "code",
        "colab": {}
      },
      "source": [
        "start_date = \"2019-1-1\"\n",
        "end_date = \"2019-1-31\"\n",
        "\n",
        "after_start_date = data_daily['index'] >= start_date\n",
        "before_end_date = data_daily['index'] <= end_date\n",
        "between_two_dates = after_start_date & before_end_date\n",
        "filtered_dates = df.loc[between_two_dates]\n",
        "\n",
        "print(filtered_dates)"
      ],
      "execution_count": null,
      "outputs": []
    },
    {
      "cell_type": "code",
      "metadata": {
        "id": "bdKwh2XWMiLi",
        "colab_type": "code",
        "colab": {}
      },
      "source": [
        "start_date = '03-01-1996'\n",
        "end_date = '06-01-1997'\n",
        "\n",
        "mask = (df['date'] > start_date) & (df['date'] <= end_date)\n",
        "\n",
        "df = df.loc[mask]\n",
        "df"
      ],
      "execution_count": null,
      "outputs": []
    },
    {
      "cell_type": "markdown",
      "metadata": {
        "id": "xb_4FW2Qg1N5",
        "colab_type": "text"
      },
      "source": [
        ">**Prints Empty DataFrame Error**\n",
        "\n",
        ">```\n",
        "\t1. open\t2. high\t3. low\t4. close\t5. adjusted close\t6. volume\t7. dividend amount\t8. split coefficient\n",
        "date\t\n",
        "```\n",
        "- https://stackoverflow.com/questions/22898824/filtering-pandas-dataframes-on-dates"
      ]
    },
    {
      "cell_type": "code",
      "metadata": {
        "id": "YImkZOCVg7NO",
        "colab_type": "code",
        "colab": {}
      },
      "source": [
        "print(data_daily.loc[datetime.date(year=2014,month=1,day=1):datetime.date(year=2015,month=2,day=1)])"
      ],
      "execution_count": null,
      "outputs": []
    },
    {
      "cell_type": "code",
      "metadata": {
        "id": "Nf5c6mqAK1Zu",
        "colab_type": "code",
        "colab": {}
      },
      "source": [
        "df.loc['2014-01-01':'2014-02-01']"
      ],
      "execution_count": null,
      "outputs": []
    },
    {
      "cell_type": "markdown",
      "metadata": {
        "id": "lWfBdkSIxaqm",
        "colab_type": "text"
      },
      "source": [
        "Adding days to `start_date` and adding them to `date_list=[]`"
      ]
    },
    {
      "cell_type": "code",
      "metadata": {
        "id": "Q6npiQkybzwg",
        "colab_type": "code",
        "colab": {}
      },
      "source": [
        "# Test example to create a list of possible deposit days\n",
        "date_list = []\n",
        "\n",
        "start_date = datetime.date(2018, 12, 31)\n",
        "end_date = datetime.date(2020, 1, 4)\n",
        "delta = datetime.timedelta(days=30)\n",
        "\n",
        "while start_date <= end_date:\n",
        "    print(start_date)\n",
        "    start_date += delta\n",
        "    date_list.append(start_date)\n",
        "    \n",
        "print(date_list)"
      ],
      "execution_count": null,
      "outputs": []
    },
    {
      "cell_type": "markdown",
      "metadata": {
        "id": "DMgazqAljlqv",
        "colab_type": "text"
      },
      "source": [
        "## Date range filters\n",
        "\n",
        "https://pandas.pydata.org/pandas-docs/stable/reference/api/pandas.DataFrame.filter.html"
      ]
    },
    {
      "cell_type": "code",
      "metadata": {
        "id": "AihSXhzI9foF",
        "colab_type": "code",
        "colab": {}
      },
      "source": [
        "print(data_daily)"
      ],
      "execution_count": null,
      "outputs": []
    },
    {
      "cell_type": "code",
      "metadata": {
        "id": "AMlzPiji9V-T",
        "colab_type": "code",
        "colab": {}
      },
      "source": [
        "data_daily.filter(like='1999', axis = 0)"
      ],
      "execution_count": null,
      "outputs": []
    }
  ]
}