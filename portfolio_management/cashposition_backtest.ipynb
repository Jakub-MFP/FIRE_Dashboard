{
  "nbformat": 4,
  "nbformat_minor": 0,
  "metadata": {
    "colab": {
      "name": "cashposition_backtest.ipynb",
      "provenance": [],
      "collapsed_sections": [
        "eNeSYqJ-zALj",
        "QrSc9hyCyTTU",
        "U89l7OEW7rD8",
        "5b8CJ_yZUSlH",
        "1MSy5kxDUiXH",
        "rTP4H-OjUtRu"
      ],
      "toc_visible": true,
      "mount_file_id": "1rItD0mr6wIoEI5VGOyM1r6r5NAlzEJY1",
      "authorship_tag": "ABX9TyOYbg9BLj8kmh4hE1PjfwEI",
      "include_colab_link": true
    },
    "kernelspec": {
      "name": "python3",
      "display_name": "Python 3"
    }
  },
  "cells": [
    {
      "cell_type": "markdown",
      "metadata": {
        "id": "view-in-github",
        "colab_type": "text"
      },
      "source": [
        "<a href=\"https://colab.research.google.com/github/Jakub-MFP/My_FIRE_Project/blob/master/portfolio_management/cashposition_backtest.ipynb\" target=\"_parent\"><img src=\"https://colab.research.google.com/assets/colab-badge.svg\" alt=\"Open In Colab\"/></a>"
      ]
    },
    {
      "cell_type": "markdown",
      "metadata": {
        "id": "eNeSYqJ-zALj"
      },
      "source": [
        "# **Project Objective**"
      ]
    },
    {
      "cell_type": "markdown",
      "metadata": {
        "id": "HyFTWGbpkZc9"
      },
      "source": [
        "## **Problem**\n",
        "\n",
        "Lots of resources advocate for investors to have between 10% to 30% of their portfolio in cash so we can seize upon market opportunities. The problem is that it is never explained when we should have 30% or 20% or 10% cash position, what factors determine how much cash we should have at any given time?\n"
      ]
    },
    {
      "cell_type": "markdown",
      "metadata": {
        "id": "ZHKiy-VMkb5G"
      },
      "source": [
        "## **Question**\n",
        "\n",
        "What is the optimal cash position to keep in our portfolio at anytime for the past 20 years. We will assume that our portfolio only has one asset and it is the ETF SPY. Which is an ETF that tracks the SP500 Index and is a good overall indicator for the status of the \"market\"\n"
      ]
    },
    {
      "cell_type": "markdown",
      "metadata": {
        "id": "beRWFD-GkeI0"
      },
      "source": [
        "## **Hypothesis**\n",
        "\n",
        "I think we will figure out that just investing 100% of the money into a portfolio during our regular deposit cycles and keeping no cash position will under-perform having a cash position at all times. \n",
        "\n",
        "*For example*\n",
        "\n",
        "* If the SPY is up, we keep 30% of our portfolio in cash\n",
        "* IF SPY is down 10% from ATH (all time high) than we keep 20% of portfolio in cash\n",
        "* IF SPY is down 20% from ATH than we keep 10% of portfolio in cash\n",
        "* IF SPY is down 30% from ATH than we keep 5% of portfolio in cash \n",
        "\n",
        "I believe that having a cash position on the side and investing more when the market is down will yield a higher ROI and CAGR over the same 20 year period. \n",
        "\n",
        "If SPY just regular investments returned a 9% CAGR, than I believe doing something as simple as just holding some cash will return 12% CAGR+. Something significant like 30-40% higher returns than otherwise possible. \n",
        "\n",
        "This will be tested not just on SPY but a number of stocks and ETFs with the eventually goal of doing this  with multiple stocks in a portfolio and using the efficient frontier to determine how much we allocate to any stock when the market trigger is in effect to reduce or increase our cash position. "
      ]
    },
    {
      "cell_type": "markdown",
      "metadata": {
        "id": "3HrGCk7k1pZF"
      },
      "source": [
        "## **The Procedure**\n",
        "1. We run the experiment to see how much 10,000 in 2000 would yield by end of Dec 2019 with no additional investments. We want to calcualte the CAGR or Compound Annual Growth Rate\n",
        "2. We run another experiment to see how much 10,000 in 2000 would yield by end of Dec 2019 with a 1,000 monthly deposit. Does it change the CAGR? \n",
        "3. Finally we will run a combinatorics trial \n",
        "\n",
        "   1. Start with 10,000\n",
        "        1. Deposit each month 1,000 into portfolio\n",
        "        2. Adjust the invested / cash ratio based on the market performance\n",
        "            1. If the SPY is all time high than keep 70% invested and 30% in cash\n",
        "            2. If the SPY drops 10% from ATM than keep 80% invested and 20% cash\n",
        "            3. If SPY drops 20% from ATM than keep 90% invested and 10% cash\n",
        "            4. If SPY drops 30% from ATM than keep 95% invested and 5% cash\n",
        "        3. Do every combination of cash allocation based on how much market drops between -1% and -50%\n",
        "        4. Calcualte the CAGR for each combination\n",
        "\n",
        "Daily Progress Update \n",
        "https://myfireproject.com/topic/301-portfolio-management-research/\n"
      ]
    },
    {
      "cell_type": "markdown",
      "metadata": {
        "id": "QrSc9hyCyTTU"
      },
      "source": [
        "# **Initial Setup**\n",
        "\n",
        "Installs Alpha Vantage and imports required modules"
      ]
    },
    {
      "cell_type": "markdown",
      "metadata": {
        "id": "3QkSnHK28IKm"
      },
      "source": [
        "**Install Alpha Vantage API**"
      ]
    },
    {
      "cell_type": "code",
      "metadata": {
        "id": "CDxEHz7O6Trc"
      },
      "source": [
        "# Install Alpha Vantage\n",
        "!pip install alpha_vantage"
      ],
      "execution_count": null,
      "outputs": []
    },
    {
      "cell_type": "markdown",
      "metadata": {
        "id": "CqNfq4rD8OpN"
      },
      "source": [
        "**Import All The Modules You Need**"
      ]
    },
    {
      "cell_type": "code",
      "metadata": {
        "id": "UgIiQsAU6eEY"
      },
      "source": [
        "import pandas as pd\n",
        "import json\n",
        "import requests\n",
        "import sqlite3\n",
        "import time\n",
        "import datetime\n",
        "import numpy as np\n",
        "import matplotlib.pyplot as plt \n",
        "import sys\n",
        "import math\n",
        "\n",
        "from pandas import DataFrame\n",
        "from datetime import datetime as dt\n",
        "from alpha_vantage.timeseries import TimeSeries\n",
        "from dateutil.relativedelta import relativedelta\n",
        "from math import log"
      ],
      "execution_count": 2,
      "outputs": []
    },
    {
      "cell_type": "markdown",
      "metadata": {
        "id": "U89l7OEW7rD8"
      },
      "source": [
        "# **Alpaha Vantage API**\n",
        "\n",
        "This will create a pandas dataframe of all historical prices\n",
        "\n",
        "https://www.alphavantage.co/documentation/\n",
        "\n"
      ]
    },
    {
      "cell_type": "markdown",
      "metadata": {
        "id": "ekv9oXJIfIgq"
      },
      "source": [
        "Assign Stock Ticker and API Key\n",
        "\n",
        "Get your free api key here > https://www.alphavantage.co/support/#api-key"
      ]
    },
    {
      "cell_type": "code",
      "metadata": {
        "id": "jPV1I0AuZpyj"
      },
      "source": [
        "stock_ticker = 'SPY'\n",
        "   \n",
        "    # Update this for your own API key\n",
        "api_key = open('/content/drive/My Drive/Colab Notebooks/key').read()\n",
        "#api_key = '4545sdsad5s4dsd'"
      ],
      "execution_count": 3,
      "outputs": []
    },
    {
      "cell_type": "markdown",
      "metadata": {
        "id": "8KsdsNvZfP34"
      },
      "source": [
        "Run API Request to get stock data\n",
        "\n",
        "    # Date / Open / High / Low / Close / Adjusted Close / Volume / Dividend / Split"
      ]
    },
    {
      "cell_type": "code",
      "metadata": {
        "id": "JweN40qJZsto"
      },
      "source": [
        "ts = TimeSeries (key=api_key, output_format = \"pandas\")\n",
        "data_daily, meta_data = ts.get_daily_adjusted(symbol=stock_ticker, outputsize ='full')"
      ],
      "execution_count": 4,
      "outputs": []
    },
    {
      "cell_type": "markdown",
      "metadata": {
        "id": "ak-ip1H-RIUo"
      },
      "source": [
        "#**Procedure**\n",
        "Investment Period = Jan 1, 2000 to Dec 31, 2019\n",
        "1. ***ROI*** and ***CAGR*** of Investing `$10,000` and just allocating `100%` Position\n",
        "2. ***ROI*** and ***CAGR*** of Investing `$10,000` and depositing `$1,000` each month and allocating `100%` position \n",
        "3. ***ROI*** and ***CAGR*** of Investing `$10,000` and depositing `$1,000` each month and allocating a `variable` position using `market_status`\n",
        "4. ***ROI*** and ***CAGR*** of Investing `$10,000` and depositing `$1,000` each month and allocating a `variable` position using `market_status` with `combinatorics`"
      ]
    },
    {
      "cell_type": "markdown",
      "metadata": {
        "id": "5b8CJ_yZUSlH"
      },
      "source": [
        "## Step 1. `$10,000` and `100% Position` "
      ]
    },
    {
      "cell_type": "markdown",
      "metadata": {
        "id": "NJX98F2LVKWj"
      },
      "source": [
        "**Step 1 Overview**\n",
        "\n",
        "You invest 10,000 on Jan 1, 2000 into the SPY. After 20 years you see what the value of your investment is and calcualte the CAGR. \n",
        "\n",
        "Edit\n",
        "- `start_date = datetime.datetime(2000, 1, 1)` change the starting and end date in the formatting (YYYY, MM, DD)\n",
        "-  `initial_investment` to whatever starting balance you want\n"
      ]
    },
    {
      "cell_type": "code",
      "metadata": {
        "id": "xe5-7CHdZUdW",
        "outputId": "0b478cc3-ce50-4c52-aa01-c7a879599d3e",
        "colab": {
          "base_uri": "https://localhost:8080/",
          "height": 204
        }
      },
      "source": [
        "start_date = datetime.datetime(2000, 1, 1)\n",
        "end_date = datetime.datetime(2019, 12, 31)\n",
        "time_difference = relativedelta(end_date, start_date)\n",
        "number_of_years = float((time_difference.years)+1)\n",
        "\n",
        "date_filter = data_daily[(data_daily.index > start_date) & (data_daily.index <= end_date)]\n",
        "\n",
        "    # Starting Settings\n",
        "initial_investment = 10000\n",
        "monthly_deposit = 1000\n",
        "\n",
        "    # Start Price\n",
        "start_adjusted_close_price = date_filter['5. adjusted close'][-1]\n",
        "starting_shares = initial_investment / start_adjusted_close_price\n",
        "\n",
        "    # End Price\n",
        "\n",
        "end_adjusted_close_price = date_filter['5. adjusted close'][0]\n",
        "\n",
        "\n",
        "    # Final Math\n",
        "step1_final_value = round((starting_shares * end_adjusted_close_price), 2)\n",
        "step1_profit = round((step1_final_value - initial_investment), 2)\n",
        "step1_roi = round((((step1_final_value - initial_investment) / initial_investment)* 100), 2)\n",
        "step1_cagr = round((((step1_final_value / initial_investment) ** (1 / (number_of_years - 1)) - 1)* 100), 2)\n",
        "\n",
        "    # Print out results\n",
        "\n",
        "print(\"Start Share Price : ${} \".format(start_adjusted_close_price))\n",
        "print(\"Starting Shares : {} \".format(starting_shares))\n",
        "print(\"Number of years : {} \".format(number_of_years))\n",
        "print(\"\")\n",
        "\n",
        "print(\"Ending Share Price : ${} \".format(end_adjusted_close_price))\n",
        "print(\"\")\n",
        "print(\"Total Deposits : ${} \".format(initial_investment))\n",
        "print(\"Portfolio Value : ${} \".format(step1_final_value))\n",
        "print(\"Investment Profit : ${} \".format(step1_profit))\n",
        "print(\"ROI : {}% \".format(step1_roi))\n",
        "print(\"CAGR : {}% \".format(step1_cagr))"
      ],
      "execution_count": null,
      "outputs": [
        {
          "output_type": "stream",
          "text": [
            "Start Share Price : $98.5115 \n",
            "Starting Shares : 101.51099110256163 \n",
            "Number of years : 20.0 \n",
            "\n",
            "Ending Share Price : $317.2003 \n",
            "\n",
            "Total Deposits : $10000 \n",
            "Portfolio Value : $32199.32 \n",
            "Investment Profit : $22199.32 \n",
            "ROI : 221.99% \n",
            "CAGR : 6.35% \n"
          ],
          "name": "stdout"
        }
      ]
    },
    {
      "cell_type": "markdown",
      "metadata": {
        "id": "1MSy5kxDUiXH"
      },
      "source": [
        "## Step 2. `$10,000` + `$1,000` Monthly and `100% Position` "
      ]
    },
    {
      "cell_type": "markdown",
      "metadata": {
        "id": "XvILDt1yom1w"
      },
      "source": [
        "This step investes 10,000 at the start, and than each new month we will add 1000 more to the portfolio. Whenever we add 1,000 to portfolio, we will also buy all the shares we can at current market price. "
      ]
    },
    {
      "cell_type": "code",
      "metadata": {
        "id": "L7WFwfX7cOCS"
      },
      "source": [
        "start_date = datetime.datetime(2000, 1, 1)\n",
        "end_date = datetime.datetime(2019, 12, 31)\n",
        "time_difference = relativedelta(end_date, start_date)\n",
        "number_of_years = time_difference.years + 1\n",
        "\n",
        "initial_investment = 10000\n",
        "monthly_deposit = 1000\n",
        "\n",
        "\n",
        "    # Create a filtered dataframe, and change the order it is displayed. \n",
        "date_filter = data_daily[(data_daily.index > start_date) & (data_daily.index <= end_date)]\n",
        "date_filter = date_filter.sort_index(ascending=True)\n",
        "\n",
        "    # Set starting balances\n",
        "start_current_balance = initial_investment\n",
        "start_adjusted_close_price = date_filter['5. adjusted close'][0]\n",
        "start_current_shares = start_current_balance / start_adjusted_close_price\n",
        "\n",
        "    # Settings for loop\n",
        "current_balance = 0\n",
        "current_shares = 0\n",
        "deposit_month = 1\n",
        "total_deposits_count = 0\n",
        "\n",
        "    # Settings to create age of investments\n",
        "transactions = [] # log all dates and transactions amounts\n",
        "transactions.append([start_date, initial_investment])\n",
        "\n",
        "    # add starting balance to deposit_dates_list\n",
        "# deposit_dates.append(start_date, int(initial_investment))\n",
        "#deposit_dates[start_date] = int(initial_investment)\n",
        "\n",
        "    # step 4 - Itterate trough all the rows in the dataframe and buy shares if it is a new month\n",
        "for index, row in date_filter.iterrows():\n",
        "\n",
        "    current_date = str(index) # set current index date row to current_date \n",
        "    current_month = int(current_date[5:7]) # grab the current month segement from current date\n",
        "\n",
        "    if current_month != deposit_month: # if it is a new month than run loop\n",
        "        current_balance += monthly_deposit # add $1000 to current_balance\n",
        "        shares_purchased = (current_balance / row['5. adjusted close'])\n",
        "        current_shares += (current_balance / row['5. adjusted close']) # figure out how many new shares we are buying \n",
        "        total_deposits_count += 1 # add to total_deposits that we made a new deposit\n",
        "        current_balance -= monthly_deposit # take of $1000 deposit for purchase of shares\n",
        "\n",
        "        new_date = index\n",
        "        new_transaction = monthly_deposit\n",
        "        transactions.append([new_date, new_transaction]) #add current date for each deposit to the dic \n",
        "        \n",
        "        deposit_month = current_month\n",
        "        #print(deposit_month)\n",
        "        #print(shares_purchased)\n",
        "        \n",
        "\n",
        "    # Figure out average age of deposits\n",
        "age_list = []\n",
        "for trans_date, deposit in transactions: # for items in list transactions\n",
        "    calculation = (end_date - trans_date) #get difference in days\n",
        "    age_years = float((int(calculation.days))/365) # convert to how many years\n",
        "    age_weights = age_years * deposit #figure out the weight of each dollar invested\n",
        "    age_list.append(age_weights) #add to list\n",
        "\n",
        "\n",
        "age_ratio = sum(age_list)\n",
        "\n",
        "\n",
        "\n",
        "    # Ending Metrics\n",
        "end_adjusted_close_price = date_filter['5. adjusted close'][-1]\n",
        "final_balance = round((current_shares * end_adjusted_close_price), 2)\n",
        "total_deposits = int((total_deposits_count * monthly_deposit) + initial_investment)\n",
        "investment_profit = final_balance - total_deposits\n",
        "roi = round(((investment_profit / total_deposits) * 100), 2)\n",
        "age = age_ratio / total_deposits\n",
        "cagr = round((((final_balance / total_deposits) ** (1 / (age - 1)) - 1)* 100), 2)"
      ],
      "execution_count": 7,
      "outputs": []
    },
    {
      "cell_type": "markdown",
      "metadata": {
        "id": "Wj5Nbt4U-aeR"
      },
      "source": [
        "Analysis of Step 2 Results"
      ]
    },
    {
      "cell_type": "code",
      "metadata": {
        "id": "gf8F7cDP7bqW",
        "outputId": "893a36d0-4580-4c12-89fd-171298ba3353",
        "colab": {
          "base_uri": "https://localhost:8080/",
          "height": 374
        }
      },
      "source": [
        "print(\"STARTING METRICS\")\n",
        "print(\"Initial Balance : $ {} \".format(start_current_balance))\n",
        "print(\"Share Price : $ {} \".format(start_adjusted_close_price))\n",
        "print(\"Purchased Shares : {} \".format(current_shares))\n",
        "\n",
        "print(\"\")\n",
        "print(\"-----------------------------------------------------------\")\n",
        "print(\"\")\n",
        "\n",
        "print(\"ENDING METRICS\")\n",
        "print(\"Number of years : {} \".format(number_of_years))\n",
        "print(\"Average Age of each Dollar invested : {} years \".format(age))\n",
        "print(\"Share Price : $ {} \".format(end_adjusted_close_price))\n",
        "print(\"Final Shares : {} \".format(current_shares))\n",
        "\n",
        "print(\"\")\n",
        "print(\"-----------------------------------------------------------\")\n",
        "print(\"\")\n",
        "\n",
        "print(\"RESULTS\")\n",
        "print(\"Total Deposits : $ {} \".format(total_deposits))\n",
        "print(\"Final Balance : $ {} \".format(final_balance))\n",
        "print(\"Investment Profit : ${} \".format(investment_profit))\n",
        "print(\"ROI : {}% \".format(roi))\n",
        "print(\"CAGR : {}% \".format(cagr))"
      ],
      "execution_count": 8,
      "outputs": [
        {
          "output_type": "stream",
          "text": [
            "STARTING METRICS\n",
            "Initial Balance : $ 10000 \n",
            "Share Price : $ 98.5115 \n",
            "Purchased Shares : 2183.797185730247 \n",
            "\n",
            "-----------------------------------------------------------\n",
            "\n",
            "ENDING METRICS\n",
            "Number of years : 20 \n",
            "Average Age of each Dollar invested : 10.405358419981294 years \n",
            "Share Price : $ 317.2003 \n",
            "Final Shares : 2183.797185730247 \n",
            "\n",
            "-----------------------------------------------------------\n",
            "\n",
            "RESULTS\n",
            "Total Deposits : $ 249000 \n",
            "Final Balance : $ 692701.12 \n",
            "Investment Profit : $443701.12 \n",
            "ROI : 178.19% \n",
            "CAGR : 11.49% \n"
          ],
          "name": "stdout"
        }
      ]
    },
    {
      "cell_type": "markdown",
      "metadata": {
        "id": "rTP4H-OjUtRu"
      },
      "source": [
        "## Step 3. `$10,000` + `$1,000` Monthly and `Variable Position` "
      ]
    },
    {
      "cell_type": "markdown",
      "metadata": {
        "id": "_Axyd6MjcJYM"
      },
      "source": [
        "1. Invest 10,000 at begining or x amount\n",
        "2. Invest 1,000 each month or x amount\n",
        "3. Determine what the market status is. Meaning how much the market has dropped from the all time high.\n",
        "4. Based on how much the market has dropped, determine what % of the portfolio will be in SPY shares and what % will be in cash. \n",
        "\n",
        "The theory is that the more the market drops, the less in cash we should keep. "
      ]
    },
    {
      "cell_type": "code",
      "metadata": {
        "id": "NLT_UEJ-R-jp"
      },
      "source": [
        "start_date = datetime.datetime(2000, 1, 1)\n",
        "end_date = datetime.datetime(2019, 12, 31)\n",
        "time_difference = relativedelta(end_date, start_date)\n",
        "number_of_years = time_difference.years + 1\n",
        "\n",
        "initial_investment = 10000\n",
        "monthly_deposit = 1000\n",
        "\n",
        "\n",
        "    # Create a filtered dataframe, and change the order it is displayed. \n",
        "date_filter = data_daily[(data_daily.index > start_date) & (data_daily.index <= end_date)]\n",
        "date_filter = date_filter.sort_index(ascending=True)\n",
        "\n",
        "\n",
        "    # Set starting balances\n",
        "start_current_balance = initial_investment\n",
        "start_adjusted_close_price = date_filter['5. adjusted close'][0]\n",
        "start_current_shares = start_current_balance / start_adjusted_close_price\n",
        "\n",
        "    # Settings for loop\n",
        "current_balance = 0\n",
        "portfolio_value = 0\n",
        "current_shares = 0\n",
        "deposit_month = 1\n",
        "total_deposits_count = 0\n",
        "total_shares_purchases_count = 0\n",
        "\n",
        "    # Creating all the lists we need\n",
        "transactions_deposits = [] #log every deposit in dictionary \n",
        "transactions_deposits.append([start_date, initial_investment])\n",
        "transactions_trades = [] #log every trade in dictrionary\n",
        "market_status_list = [] #log every market status for each day\n",
        "\n",
        "    # settings for market status\n",
        "market_all_time_high = 0 #defautl all time high is the first price of the share \n",
        "current_market_change = 0\n",
        "current_market_status = 0\n",
        "\n",
        "    # Main Loop\n",
        "for index, row in date_filter.iterrows():\n",
        "\n",
        "    current_date = str(index) # set current index date row to current_date \n",
        "    current_month = int(current_date[5:7]) # grab the current month segement from current date\n",
        "\n",
        "    if current_month != deposit_month: # if it is a new month than run loop\n",
        "        current_balance += monthly_deposit # add $1000 to current_balance\n",
        "        total_deposits_count += 1 # add to total_deposits that we made a new deposit\n",
        "        new_date = index\n",
        "        new_transaction = monthly_deposit\n",
        "        transactions_deposits.append([new_date, new_transaction]) #add current date for each deposit to the dic \n",
        "        deposit_month = current_month #set the deposit month to be current month\n",
        "\n",
        "\n",
        "    # Figure out what the market status is, if it is down or up compared to all time high\n",
        "    current_market_price = float(row['5. adjusted close']) #setting current market price to current row\n",
        "\n",
        "    if (current_market_price > market_all_time_high): #checking if the current price is a new record for all time high\n",
        "        market_all_time_high = current_market_price #if it is set the new marekt_all_time_high\n",
        "\n",
        "\n",
        "    current_market_change = current_market_price - market_all_time_high # dollar value difference between all time high and current pric\n",
        "    current_market_status = float(current_market_change / market_all_time_high) # % difference drop from all time high price\n",
        "    market_status_list.append([current_date, current_market_price, market_all_time_high, current_market_change, current_market_status]) #logs market status into our list\n",
        "\n",
        "\n",
        "        # How much cash do we need to kee on hand based on the market status\n",
        "            # https://www.tutorialspoint.com/python/comparison_operators_example.htm\n",
        "    if (current_market_status == 0):  # all time high record\n",
        "        current_cash_required_equity = 0.10\n",
        "    elif (current_market_status < -0.05): #less than 5%\n",
        "        current_cash_required_equity = 0.9\n",
        "    elif (current_market_status < -0.10): #less than 10%\n",
        "        current_cash_required_equity = 0.8\n",
        "    elif (current_market_status < -0.15): #less than 15%\n",
        "        current_cash_required_equity = 0.07\n",
        "    elif (current_market_status < -0.20): #less than 20%\n",
        "        current_cash_required_equity = 0.06\n",
        "    elif (current_market_status < -0.25): #less than 25%\n",
        "        current_cash_required_equity = 0.05\n",
        "    elif (current_market_status < -0.30): #less than 30%\n",
        "        current_cash_required_equity = 0\n",
        "\n",
        "\n",
        "    #print(current_cash_required_equity)\n",
        "\n",
        "        # What is our current cash balance, and portfolio value\n",
        "    portfolio_value = float((current_balance + (current_shares * current_market_price))) #figuring out the total value of portfolio\n",
        "    current_cash_required = float(current_cash_required_equity * portfolio_value) #figuring ouit the dollar cash amount we need to keep in portoflio \n",
        "\n",
        "        # How many shares do we need to buy if any based on market status\n",
        "    if (current_cash_required < current_balance): # checking if the current cash required is lower than our current balance. If it is we will need to buy shares to lower our position. \n",
        "        cash_to_purchase_shares = float(current_balance - current_cash_required) #how much cash we are going to use to buy shares\n",
        "        current_shares += (cash_to_purchase_shares / current_market_price ) # figure out how many new shares we are buying and add it to our current shares\n",
        "        current_balance -= (cash_to_purchase_shares) # deduct the cash we spent on buying shares from our current balance\n",
        "        total_shares_purchases_count =+ 1 # add 1 to total count for cash trasncsstions\n",
        "        transactions_trades.append([current_date, cash_to_purchase_shares, current_shares, current_balance]) #log all the transasctions\n",
        "    #print(current_date, current_market_change)\n",
        "    #print(current_date, current_market_price, market_all_time_high, current_market_change, current_market_status, current_cash_required_equity)\n",
        "\n",
        "    # Figure out average age of deposits\n",
        "age_list = []\n",
        "for trans_date, deposit in transactions_deposits: # for items in list transactions\n",
        "    calculation = (end_date - trans_date) #get difference in days\n",
        "    age_years = float((int(calculation.days))/365) # convert to how many years\n",
        "    age_weights = age_years * deposit #figure out the weight of each dollar invested\n",
        "    age_list.append(age_weights) #add to list\n",
        "\n",
        "age_ratio = sum(age_list)\n",
        "\n",
        "\n",
        "\n",
        "    # Ending Metrics\n",
        "end_adjusted_close_price = date_filter['5. adjusted close'][-1]\n",
        "final_balance = round((current_shares * end_adjusted_close_price), 2)\n",
        "total_deposits = int((total_deposits_count * monthly_deposit) + initial_investment)\n",
        "investment_profit = final_balance - total_deposits\n",
        "roi = round(((investment_profit / total_deposits) * 100), 2)\n",
        "age = age_ratio / total_deposits\n",
        "cagr = round((((final_balance / total_deposits) ** (1 / (age - 1)) - 1)* 100), 2)\n",
        "\n",
        "\n",
        "\n"
      ],
      "execution_count": 5,
      "outputs": []
    },
    {
      "cell_type": "markdown",
      "metadata": {
        "id": "EiBy-O2vcKOG"
      },
      "source": [
        "Analysis of Step 3 Results"
      ]
    },
    {
      "cell_type": "code",
      "metadata": {
        "id": "kk8qCNjxcLKD",
        "outputId": "fd62bc19-3d32-4a67-de80-e38a2ec6a053",
        "colab": {
          "base_uri": "https://localhost:8080/",
          "height": 459
        }
      },
      "source": [
        "print(\"STARTING METRICS\")\n",
        "print(\"Initial Balance : $ {} \".format(start_current_balance))\n",
        "print(\"Share Price : $ {} \".format(start_adjusted_close_price))\n",
        "print(\"Purchased Shares : {} \".format(current_shares))\n",
        "\n",
        "print(\"\")\n",
        "print(\"-----------------------------------------------------------\")\n",
        "print(\"\")\n",
        "\n",
        "print(\"ENDING METRICS\")\n",
        "print(\"Number of years : {} \".format(number_of_years))\n",
        "print(\"Average Age of each Dollar invested : {} years \".format(age))\n",
        "print(\"Share Price : $ {} \".format(end_adjusted_close_price))\n",
        "print(\"Current Market Status: {}  \".format(current_market_status))\n",
        "print(\"Current Cash Required: {}  \".format(current_cash_required))\n",
        "print(\"Current Cash Required Equity: {}  \".format(current_cash_required_equity))\n",
        "\n",
        "\n",
        "print(\"\")\n",
        "print(\"-----------------------------------------------------------\")\n",
        "print(\"\")\n",
        "\n",
        "print(\"TOTALS\")\n",
        "print(\"Total Deposits : $ {} \".format(total_deposits))\n",
        "print(\"Final Portfolio Value : $ {} \".format(final_balance))\n",
        "print(\"Final Shares : {} \".format(current_shares))\n",
        "print(\"Final Cash : $ {} \".format(current_balance))\n",
        "\n",
        "print(\"\")\n",
        "print(\"Investment Profit : ${} \".format(investment_profit))\n",
        "print(\"ROI : {}% \".format(roi))\n",
        "print(\"CAGR : {}% \".format(cagr))\n",
        "\n"
      ],
      "execution_count": 6,
      "outputs": [
        {
          "output_type": "stream",
          "text": [
            "STARTING METRICS\n",
            "Initial Balance : $ 10000 \n",
            "Share Price : $ 98.5115 \n",
            "Purchased Shares : 1519.0531924959353 \n",
            "\n",
            "-----------------------------------------------------------\n",
            "\n",
            "ENDING METRICS\n",
            "Number of years : 20 \n",
            "Average Age of each Dollar invested : 10.405358419981294 years \n",
            "Share Price : $ 317.2003 \n",
            "Current Market Status: -0.003344385978086724  \n",
            "Current Cash Required: 53308.3902354657  \n",
            "Current Cash Required Equity: 0.1  \n",
            "\n",
            "-----------------------------------------------------------\n",
            "\n",
            "TOTALS\n",
            "Total Deposits : $ 249000 \n",
            "Final Portfolio Value : $ 481844.13 \n",
            "Final Shares : 1519.0531924959353 \n",
            "Final Cash : $ 51239.77397898858 \n",
            "\n",
            "Investment Profit : $232844.13 \n",
            "ROI : 93.51% \n",
            "CAGR : 7.27% \n"
          ],
          "name": "stdout"
        }
      ]
    },
    {
      "cell_type": "markdown",
      "metadata": {
        "id": "yVxWQzBdceDI"
      },
      "source": [
        "## Step 4. `$10,000` + `$1,000` Monthly and Solving `Variable Position` Combinatorically"
      ]
    },
    {
      "cell_type": "markdown",
      "metadata": {
        "id": "PsaRx-TIcoeE"
      },
      "source": [
        "The goal here is to do the same thing as in Step 3, but to go trough every single possible scenario in this loop.\n",
        "```\n",
        "    if (current_market_status > 0):  #greater than 0\n",
        "        current_cash_required_equity = 0.3\n",
        "    elif (current_market_status > -0.05): #less than 5%\n",
        "        current_cash_required_equity = 0.25\n",
        "    elif (current_market_status > -0.10): #less than 10%\n",
        "        current_cash_required_equity = 0.20 \n",
        "    elif (current_market_status > -0.15): #less than 15%\n",
        "        current_cash_required_equity = 0.15\n",
        "    elif (current_market_status > -0.20): #less than 20%\n",
        "        current_cash_required_equity = 0.10\n",
        "    elif (current_market_status > -0.25): #less than 25%\n",
        "        current_cash_required_equity = 0.05\n",
        "    elif (current_market_status > -0.30): #less than 30%\n",
        "        current_cash_required_equity = 0\n",
        "```\n",
        "\n",
        "1. If market status > 0: than current_cash_required_equity = 0.00 to 0.50\n",
        "2. If market status drops -0.01 to -0.50 for each option\n",
        "    1. try current_cash_required_equity = 0.00 to 0.50"
      ]
    },
    {
      "cell_type": "code",
      "metadata": {
        "id": "chQKqJEPZxSm"
      },
      "source": [
        "loop_results = []    \n",
        "cagr_list = []\n",
        "    \n",
        "status = np.arange(0, -0.3, -0.05)\n",
        "req = np.arange(0.3, 0.00, -0.1)\n",
        "\n",
        "start_date = datetime.datetime(2000, 1, 1)\n",
        "end_date = datetime.datetime(2019, 12, 31)\n",
        "time_difference = relativedelta(end_date, start_date)\n",
        "number_of_years = time_difference.years + 1\n",
        "\n",
        "initial_investment = 10000\n",
        "monthly_deposit = 1000\n",
        "\n",
        "\n",
        "# Create a filtered dataframe, and change the order it is displayed. \n",
        "date_filter = data_daily[(data_daily.index > start_date) & (data_daily.index <= end_date)]\n",
        "date_filter = date_filter.sort_index(ascending=True)\n",
        "\n",
        "\n",
        "# Set starting balances\n",
        "start_current_balance = initial_investment\n",
        "start_adjusted_close_price = date_filter['5. adjusted close'][0]\n",
        "start_current_shares = start_current_balance / start_adjusted_close_price\n",
        "\n",
        "max_cagr = 0\n",
        "\n",
        "for first in range(len(req)):\n",
        "    first_req = round(req[first], 2) # this is the 1st element, rounded to 2 digit\n",
        "    for second in range(first, len(req)):\n",
        "        second_req = round(req[second], 2) # same with 2nd element\n",
        "        for third in range(second, len(req)):\n",
        "            third_req = round(req[third], 2)\n",
        "            for fourth in range(third, len(req)):\n",
        "                fourth_req = round(req[fourth], 2)\n",
        "                for fifth in range(fourth, len(req)):\n",
        "                    fifth_req = round(req[fifth], 2)\n",
        "                    for sixth in range(fifth, len(req)):\n",
        "                        sixth_req = round(req[fifth], 2)\n",
        "                        for seventh in range(sixth, len(req)):\n",
        "                            seventh_req = round(req[sixth], 2)\n",
        "                            for first in range(len(status)):\n",
        "                                first_status = round(status[first], 2) \n",
        "                                for second in range(first, len(status)):\n",
        "                                    second_status = round(status[second], 2) \n",
        "                                    for third in range(second, len(status)):\n",
        "                                        third_status = round(status[third], 2)\n",
        "                                        for fourth in range(third, len(status)):\n",
        "                                            fourth_status = round(status[fourth], 2)\n",
        "                                            for fifth in range(fourth, len(status)):\n",
        "                                                fifth_status = round(status[fifth], 2)\n",
        "                                                for sixth in range(fifth, len(status)):\n",
        "                                                    sixth_status = round(status[fifth], 2)\n",
        "                                                    for seventh in range(sixth, len(status)):\n",
        "                                                        seventh_status = round(status[sixth], 2)\n",
        "\n",
        "\n",
        "                                                        # Settings for loop\n",
        "                                                        current_balance = 0\n",
        "                                                        portfolio_value = 0\n",
        "                                                        current_shares = 0\n",
        "                                                        deposit_month = 1\n",
        "                                                        total_deposits_count = 0\n",
        "                                                        total_shares_purchases_count = 0\n",
        "\n",
        "                                                        # Creating all the lists we need\n",
        "                                                        transactions_deposits = [] #log every deposit in dictionary \n",
        "                                                        transactions_deposits.append([start_date, initial_investment])\n",
        "                                                        transactions_trades = [] #log every trade in dictrionary\n",
        "                                                        market_status_list = [] #log every market status for each day\n",
        "\n",
        "                                                        # settings for market status\n",
        "                                                        market_all_time_high = 0 #defautl all time high is the first price of the share \n",
        "                                                        current_market_change = 0\n",
        "                                                        current_market_status = 0\n",
        "\n",
        "                                                        # Main Loop\n",
        "                                                        for index, row in date_filter.iterrows():\n",
        "\n",
        "                                                            current_date = str(index) # set current index date row to current_date \n",
        "                                                            current_month = int(current_date[5:7]) # grab the current month segement from current date\n",
        "\n",
        "                                                            if current_month != deposit_month: # if it is a new month than run loop\n",
        "                                                                current_balance += monthly_deposit # add $1000 to current_balance\n",
        "                                                                total_deposits_count += 1 # add to total_deposits that we made a new deposit\n",
        "                                                                new_date = index\n",
        "                                                                new_transaction = monthly_deposit\n",
        "                                                                transactions_deposits.append([new_date, new_transaction]) #add current date for each deposit to the dic \n",
        "                                                                deposit_month = current_month #set the deposit month to be current month\n",
        "\n",
        "\n",
        "                                                            # Figure out what the market status is, if it is down or up compared to all time high\n",
        "                                                            current_market_price = float(row['5. adjusted close']) #setting current market price to current row\n",
        "\n",
        "                                                            if (current_market_price > market_all_time_high): #checking if the current price is a new record for all time high\n",
        "                                                                market_all_time_high = current_market_price #if it is set the new marekt_all_time_high\n",
        "\n",
        "\n",
        "                                                            current_market_change = current_market_price - market_all_time_high # dollar value difference between all time high and current pric\n",
        "                                                            current_market_status = float(current_market_change / market_all_time_high) # % difference drop from all time high price\n",
        "                                                            #market_status_list.append([current_date, current_market_price, market_all_time_high, current_market_change, current_market_status]) #logs market status into our list\n",
        "\n",
        "\n",
        "                                                                # How much cash do we need to kee on hand based on the market status\n",
        "                                                                    # https://www.tutorialspoint.com/python/comparison_operators_example.htm\n",
        "                                                            if (current_market_status == first_status):  # all time high record\n",
        "                                                                current_cash_required_equity = first_req\n",
        "                                                            elif (current_market_status < second_status): #less than 5%\n",
        "                                                                current_cash_required_equity = second_req\n",
        "                                                            elif (current_market_status < third_status): #less than 10%\n",
        "                                                                current_cash_required_equity = third_req\n",
        "                                                            elif (current_market_status < fourth_status): #less than 15%\n",
        "                                                                current_cash_required_equity = fourth_req\n",
        "                                                            elif (current_market_status < fifth_status): #less than 20%\n",
        "                                                                current_cash_required_equity = fifth_req\n",
        "                                                            elif (current_market_status < sixth_status): #less than 25%\n",
        "                                                                current_cash_required_equity = sixth_req\n",
        "                                                            elif (current_market_status < seventh_status): #less than 30%\n",
        "                                                                current_cash_required_equity = seventh_req\n",
        "\n",
        "\n",
        "                                                            #print(current_cash_required_equity)\n",
        "\n",
        "                                                                # What is our current cash balance, and portfolio value\n",
        "                                                            portfolio_value = float((current_balance + (current_shares * current_market_price))) #figuring out the total value of portfolio\n",
        "                                                            current_cash_required = float(current_cash_required_equity * portfolio_value) #figuring ouit the dollar cash amount we need to keep in portoflio \n",
        "\n",
        "                                                                # How many shares do we need to buy if any based on market status\n",
        "                                                            if (current_cash_required < current_balance): # checking if the current cash required is lower than our current balance. If it is we will need to buy shares to lower our position. \n",
        "                                                                cash_to_purchase_shares = float(current_balance - current_cash_required) #how much cash we are going to use to buy shares\n",
        "                                                                current_shares += (cash_to_purchase_shares / current_market_price ) # figure out how many new shares we are buying and add it to our current shares\n",
        "                                                                current_balance -= (cash_to_purchase_shares) # deduct the cash we spent on buying shares from our current balance\n",
        "                                                                total_shares_purchases_count =+ 1 # add 1 to total count for cash trasncsstions\n",
        "                                                                #transactions_trades.append([current_date, cash_to_purchase_shares, current_shares, current_balance]) #log all the transasctions\n",
        "                                                            #print(current_date, current_market_change)\n",
        "                                                            #print(current_date, current_market_price, market_all_time_high, current_market_change, current_market_status, current_cash_required_equity)\n",
        "\n",
        "                                                        # Figure out average age of deposits\n",
        "                                                        age_list = []\n",
        "                                                        for trans_date, deposit in transactions_deposits: # for items in list transactions\n",
        "                                                            calculation = (end_date - trans_date) #get difference in days\n",
        "                                                            age_years = float((int(calculation.days))/365) # convert to how many years\n",
        "                                                            age_weights = age_years * deposit #figure out the weight of each dollar invested\n",
        "                                                            age_list.append(age_weights) #add to list\n",
        "\n",
        "                                                        age_ratio = sum(age_list)\n",
        "\n",
        "\n",
        "\n",
        "                                                            # Ending Metrics\n",
        "                                                        end_adjusted_close_price = date_filter['5. adjusted close'][-1]\n",
        "                                                        final_balance = round((current_shares * end_adjusted_close_price), 2)\n",
        "                                                        total_deposits = int((total_deposits_count * monthly_deposit) + initial_investment)\n",
        "                                                        investment_profit = final_balance - total_deposits\n",
        "                                                        roi = round(((investment_profit / total_deposits) * 100), 2)\n",
        "                                                        age = age_ratio / total_deposits\n",
        "                                                        cagr = round((((final_balance / total_deposits) ** (1 / (age - 1)) - 1)* 100), 2)\n",
        "                                                        #cagr_list.append(cagr)\n",
        "                                                        if (cagr > max_cagr):\n",
        "                                                            max_cagr = cagr\n",
        "                                                        #max_cagr = max(cagr_list)\n",
        "                                                        loop_results.append([final_balance, total_deposits, investment_profit, roi, age, cagr])\n",
        "                                                        print(\"\")\n",
        "                                                        print(\"Market Status {} | {} | {} | {} | {} | {} | {}\".format(first_status, second_status, third_status, fourth_status, fifth_status, sixth_status, seventh_status))\n",
        "                                                        print(\"Cash Req {} | {} | {} | {} | {} | {} | {}\".format(first_req, second_req, third_req, fourth_req, fifth_req, sixth_req, seventh_req))\n",
        "                                                        print(\"Highest CAGR: {}\".format(max_cagr))"
      ],
      "execution_count": null,
      "outputs": []
    },
    {
      "cell_type": "markdown",
      "metadata": {
        "id": "fcsFt8oqkK8Z"
      },
      "source": [
        "# **Conclusion**"
      ]
    },
    {
      "cell_type": "markdown",
      "metadata": {
        "id": "_xEAD5c-pJPO"
      },
      "source": [
        "After setting the test conditions of just dollar cost avareging each month fully and getting 11.49% CAGR, I was unable to beat that performance using combinatorics. Atleast the way I had the combinatorics setup, the results didin't show any increase in ROI. Right now the best factor for identifying perfomance seems to be the lenght of time the money has been invested rather than specific times it was invested. "
      ]
    }
  ]
}