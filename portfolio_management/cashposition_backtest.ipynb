{
  "nbformat": 4,
  "nbformat_minor": 0,
  "metadata": {
    "colab": {
      "name": "cashposition_backtest.ipynb",
      "provenance": [],
      "collapsed_sections": [
        "eNeSYqJ-zALj"
      ],
      "toc_visible": true,
      "mount_file_id": "1rItD0mr6wIoEI5VGOyM1r6r5NAlzEJY1",
      "authorship_tag": "ABX9TyOEIJ8Tin/ziYDFESwjY3G6",
      "include_colab_link": true
    },
    "kernelspec": {
      "name": "python3",
      "display_name": "Python 3"
    }
  },
  "cells": [
    {
      "cell_type": "markdown",
      "metadata": {
        "id": "view-in-github",
        "colab_type": "text"
      },
      "source": [
        "<a href=\"https://colab.research.google.com/github/Jakub-MFP/My_FIRE_Project/blob/master/portfolio_management/cashposition_backtest.ipynb\" target=\"_parent\"><img src=\"https://colab.research.google.com/assets/colab-badge.svg\" alt=\"Open In Colab\"/></a>"
      ]
    },
    {
      "cell_type": "markdown",
      "metadata": {
        "id": "eNeSYqJ-zALj",
        "colab_type": "text"
      },
      "source": [
        "# **Project Objective**"
      ]
    },
    {
      "cell_type": "markdown",
      "metadata": {
        "id": "3HrGCk7k1pZF",
        "colab_type": "text"
      },
      "source": [
        "**Problem**\n",
        "\n",
        "Lots of resources advocate for investors to have between 10% to 30% of their portfolio in cash so we can seize upon market opportunities. The problem is that it is never explained when we should have 30% or 20% or 10% cash position, what factors determine how much cash we should have at any given time?\n",
        "\n",
        "\n",
        "**Question**\n",
        "\n",
        "What is the optimal cash position to keep in our portfolio at anytime for the past 20 years. We will assume that our portfolio only has one asset and it is the ETF SPY. Which is an ETF that tracks the SP500 Index and is a good overall indicator for the status of the \"market\"\n",
        "\n",
        "\n",
        "**Hypothesis**\n",
        "\n",
        "I think we will figure out that just investing 100% of the money into a portfolio during our regular deposit cycles and keeping no cash position will under-perform having a cash position at all times. \n",
        "\n",
        "*For example*\n",
        "\n",
        "* If the SPY is up, we keep 30% of our portfolio in cash\n",
        "* IF SPY is down 10% from ATH (all time high) than we keep 20% of portfolio in cash\n",
        "* IF SPY is down 20% from ATH than we keep 10% of portfolio in cash\n",
        "* IF SPY is down 30% from ATH than we keep 5% of portfolio in cash \n",
        "\n",
        "I believe that having a cash position on the side and investing more when the market is down will yield a higher ROI and CAGR over the same 20 year period. \n",
        "\n",
        "If SPY just regular investments returned a 9% CAGR, than I believe doing something as simple as just holding some cash will return 12% CAGR+. Something significant like 30-40% higher returns than otherwise possible. \n",
        "\n",
        "This will be tested not just on SPY but a number of stocks and ETFs with the eventually goal of doing this  with multiple stocks in a portfolio and using the efficient frontier to determine how much we allocate to any stock when the market trigger is in effect to reduce or increase our cash position. \n",
        "\n",
        "**The Procedure**\n",
        "1. We run the experiment to see how much 10,000 in 2000 would yield by end of Dec 2019 with no additional investments. We want to calcualte the CAGR or Compound Annual Growth Rate\n",
        "2. We run another experiment to see how much 10,000 in 2000 would yield by end of Dec 2019 with a 1,000 monthly deposit. Does it change the CAGR? \n",
        "3. Finally we will run a combinatorics trial \n",
        "\n",
        "   1. Start with 10,000\n",
        "        1. Deposit each month 1,000 into portfolio\n",
        "        2. Adjust the invested / cash ratio based on the market performance\n",
        "            1. If the SPY is all time high than keep 70% invested and 30% in cash\n",
        "            2. If the SPY drops 10% from ATM than keep 80% invested and 20% cash\n",
        "            3. If SPY drops 20% from ATM than keep 90% invested and 10% cash\n",
        "            4. If SPY drops 30% from ATM than keep 95% invested and 5% cash\n",
        "        3. Do every combination of cash allocation based on how much market drops between -1% and -50%\n",
        "        4. Calcualte the CAGR for each combination\n",
        "\n",
        "Daily Progress Update \n",
        "https://myfireproject.com/topic/301-portfolio-management-research/\n"
      ]
    },
    {
      "cell_type": "markdown",
      "metadata": {
        "id": "QrSc9hyCyTTU",
        "colab_type": "text"
      },
      "source": [
        "# **Initial Setup**\n",
        "\n",
        "Installs Alpha Vantage and imports required modules"
      ]
    },
    {
      "cell_type": "markdown",
      "metadata": {
        "id": "3QkSnHK28IKm",
        "colab_type": "text"
      },
      "source": [
        "**Install Alpha Vantage API**"
      ]
    },
    {
      "cell_type": "code",
      "metadata": {
        "id": "CDxEHz7O6Trc",
        "colab_type": "code",
        "colab": {}
      },
      "source": [
        "# Install Alpha Vantage\n",
        "!pip install pip install alpha_vantage"
      ],
      "execution_count": null,
      "outputs": []
    },
    {
      "cell_type": "markdown",
      "metadata": {
        "id": "CqNfq4rD8OpN",
        "colab_type": "text"
      },
      "source": [
        "**Import All The Modules You Need**"
      ]
    },
    {
      "cell_type": "code",
      "metadata": {
        "id": "UgIiQsAU6eEY",
        "colab_type": "code",
        "colab": {}
      },
      "source": [
        "import pandas as pd\n",
        "from pandas import DataFrame\n",
        "import json\n",
        "import requests\n",
        "import sqlite3\n",
        "import time\n",
        "import datetime\n",
        "from datetime import datetime as dt\n",
        "datetime.datetime.strptime\n",
        "from alpha_vantage.timeseries import TimeSeries\n",
        "import numpy as np\n",
        "import matplotlib.pyplot as plt \n",
        "import sys\n",
        "import math"
      ],
      "execution_count": null,
      "outputs": []
    },
    {
      "cell_type": "markdown",
      "metadata": {
        "id": "U89l7OEW7rD8",
        "colab_type": "text"
      },
      "source": [
        "# **Alpaha Vantage API**\n",
        "\n",
        "This will create a pandas dataframe of all historical prices\n",
        "\n",
        "https://www.alphavantage.co/documentation/\n",
        "\n"
      ]
    },
    {
      "cell_type": "markdown",
      "metadata": {
        "id": "ekv9oXJIfIgq",
        "colab_type": "text"
      },
      "source": [
        "Assign Stock Ticker and API Key"
      ]
    },
    {
      "cell_type": "code",
      "metadata": {
        "id": "jPV1I0AuZpyj",
        "colab_type": "code",
        "colab": {}
      },
      "source": [
        "stock_ticker = 'SPY'\n",
        "   \n",
        "    # Update this for your own API key\n",
        "api_key = open('/content/drive/My Drive/Colab Notebooks/key').read()\n",
        "#api_key = '4545sdsad5s4dsd'"
      ],
      "execution_count": null,
      "outputs": []
    },
    {
      "cell_type": "markdown",
      "metadata": {
        "id": "8KsdsNvZfP34",
        "colab_type": "text"
      },
      "source": [
        "Run API Request to get stock data\n",
        "\n",
        "    # Date / Open / High / Low / Close / Adjusted Close / Volume / Dividend / Split"
      ]
    },
    {
      "cell_type": "code",
      "metadata": {
        "id": "JweN40qJZsto",
        "colab_type": "code",
        "colab": {}
      },
      "source": [
        "ts = TimeSeries (key=api_key, output_format = \"pandas\")\n",
        "data_daily, meta_data = ts.get_daily_adjusted(symbol=stock_ticker, outputsize ='full')"
      ],
      "execution_count": null,
      "outputs": []
    },
    {
      "cell_type": "markdown",
      "metadata": {
        "id": "A5DCPlBJfi9E",
        "colab_type": "text"
      },
      "source": [
        "Assign metrics from dataframe to individual variables"
      ]
    },
    {
      "cell_type": "code",
      "metadata": {
        "id": "V6IgGIOKZwzh",
        "colab_type": "code",
        "colab": {}
      },
      "source": [
        "    # data_daily['column name'][row number] \n",
        "# stock_price_open = data_daily['1. open'][0]\n",
        "# stock_price_close = data_daily['5. adjusted close'][0]\n",
        "# dividend_amount = data_daily['7. dividend amount'][0]"
      ],
      "execution_count": null,
      "outputs": []
    },
    {
      "cell_type": "markdown",
      "metadata": {
        "id": "ak-ip1H-RIUo",
        "colab_type": "text"
      },
      "source": [
        "#**Procedure**\n",
        "Investment Period = Jan 1, 2000 to Dec 31, 2019\n",
        "1. ***ROI*** and ***CAGR*** of Investing `$10,000` and just allocating `100%` Position\n",
        "2. ***ROI*** and ***CAGR*** of Investing `$10,000` and depositing `$1,000` each month and allocating `100%` position \n",
        "3. ***ROI*** and ***CAGR*** of Investing `$10,000` and depositing `$1,000` each month and allocating a `variable` position using `market_status`"
      ]
    },
    {
      "cell_type": "markdown",
      "metadata": {
        "id": "5b8CJ_yZUSlH",
        "colab_type": "text"
      },
      "source": [
        "## Step 1. `$10,000` and `100% Position` "
      ]
    },
    {
      "cell_type": "markdown",
      "metadata": {
        "id": "NJX98F2LVKWj",
        "colab_type": "text"
      },
      "source": [
        "1. The goal is to get the dataframe to start on `start_date` and end on `end_date`\n",
        "2. Grab the `adjusted_close_price` for `start_date` or the next trading day therafter. \n",
        "3. `starting_shares` = `initial_investment` / `adjusted_close_price` for the `start_date`\n",
        "4. Grab the `adjusted_close_price` for the `end_date` \n",
        "5. `step1_final_value` = `starting_shares` * `adjusted_close_price`\n",
        "6. `step1_roi` = (`step1_final_value` - `initial_investment`) / `initial_investment`\n",
        "7. `step7_cagr` = round(((math.log(`step1_final_value`/`initial_investment`)) / (math.log(1+`number_of_years`))),2)"
      ]
    },
    {
      "cell_type": "code",
      "metadata": {
        "id": "xe5-7CHdZUdW",
        "colab_type": "code",
        "colab": {
          "base_uri": "https://localhost:8080/",
          "height": 187
        },
        "outputId": "7bb613e7-daee-421c-a051-f83520a0c284"
      },
      "source": [
        "start_year = 2000\n",
        "start_month = 1\n",
        "start_day =  1\n",
        "\n",
        "end_year = 2019\n",
        "end_month = 12\n",
        "end_day = 31\n",
        "\n",
        "# number_of_years = end_date - start_date #should be 20 years ish\n",
        "number_of_years = 20\n",
        "\n",
        "    # Step 1\n",
        "\n",
        "\n",
        "initial_investment = 10000\n",
        "monthly_deposit = 1000\n",
        "\n",
        "    # Start Price\n",
        "date_filter_start = data_daily.filter(like = '2000-01-03', axis = 0) \n",
        "start_adjusted_close_price = date_filter_start['5. adjusted close'][0]\n",
        "starting_shares = initial_investment / start_adjusted_close_price\n",
        "# start_reported_date = date_filter['date'][-1] #not working\n",
        "\n",
        "    # End Price\n",
        "date_filter_end = data_daily.filter(like = '2019-12-31', axis = 0)\n",
        "end_adjusted_close_price = date_filter_end['5. adjusted close'][0]\n",
        "\n",
        "# end_reported_date = date_filter['date'][0] #not working\n",
        "\n",
        "    # Final Math\n",
        "step1_final_value = round((starting_shares * end_adjusted_close_price), 2)\n",
        "step1_profit = round((step1_final_value - initial_investment), 2)\n",
        "step1_roi = round((((step1_final_value - initial_investment) / initial_investment)* 100), 2)\n",
        "step1_cagr = round((((step1_final_value / initial_investment) ** (1 / (number_of_years - 1)) - 1)* 100), 2)\n",
        "\n",
        "    # Print out results\n",
        "#print(\"Starting Date : {} \".format(start_reported_date))\n",
        "print(\"Start Share Price : ${} \".format(start_adjusted_close_price))\n",
        "print(\"Starting Shares : {} \".format(starting_shares))\n",
        "print(\"\")\n",
        "#print(\"Ending Date : {} \".format(start_reported_date))\n",
        "print(\"Ending Share Price : ${} \".format(end_adjusted_close_price))\n",
        "print(\"\")\n",
        "print(\"Total Deposits : ${} \".format(initial_investment))\n",
        "print(\"Portfolio Value : ${} \".format(step1_final_value))\n",
        "print(\"Investment Profit : ${} \".format(step1_profit))\n",
        "print(\"ROI : {}% \".format(step1_roi))\n",
        "print(\"CAGR : {}% \".format(step1_cagr))"
      ],
      "execution_count": 60,
      "outputs": [
        {
          "output_type": "stream",
          "text": [
            "Start Share Price : $98.5115 \n",
            "Starting Shares : 101.51099110256163 \n",
            "\n",
            "Ending Share Price : $317.2003 \n",
            "\n",
            "Total Deposits : $10000 \n",
            "Portfolio Value : $32199.32 \n",
            "Investment Profit : $22199.32 \n",
            "ROI : 221.99% \n",
            "CAGR : 6.35% \n"
          ],
          "name": "stdout"
        }
      ]
    },
    {
      "cell_type": "markdown",
      "metadata": {
        "id": "6nPHxqvACAE4",
        "colab_type": "text"
      },
      "source": [
        "Testing out CAGR"
      ]
    },
    {
      "cell_type": "code",
      "metadata": {
        "id": "jgaDxGfrCBIH",
        "colab_type": "code",
        "colab": {
          "base_uri": "https://localhost:8080/",
          "height": 34
        },
        "outputId": "30e99d78-911c-4822-9091-dac47821320a"
      },
      "source": [
        "end_value = 32199\n",
        "start_value = 10000\n",
        "num_periods = 20\n",
        "\n",
        "CAGR = (end_value / start_value) ** (1 / (num_periods - 1)) - 1\n",
        "\n",
        "print(CAGR)\n"
      ],
      "execution_count": 57,
      "outputs": [
        {
          "output_type": "stream",
          "text": [
            "0.06347808908458075\n"
          ],
          "name": "stdout"
        }
      ]
    },
    {
      "cell_type": "code",
      "metadata": {
        "id": "hk4XVCcGCvGF",
        "colab_type": "code",
        "colab": {}
      },
      "source": [
        "def cagr(start_value, end_value, num_periods):\n",
        "    return (end_value / start_value) ** (1 / (num_periods - 1)) - 1"
      ],
      "execution_count": null,
      "outputs": []
    },
    {
      "cell_type": "markdown",
      "metadata": {
        "id": "gJLjTTJTAQOS",
        "colab_type": "text"
      },
      "source": [
        "testing out date filters"
      ]
    },
    {
      "cell_type": "markdown",
      "metadata": {
        "id": "E7xxYiZkAS0U",
        "colab_type": "text"
      },
      "source": [
        "start date"
      ]
    },
    {
      "cell_type": "code",
      "metadata": {
        "id": "fqmzOY1MAVWA",
        "colab_type": "code",
        "colab": {
          "base_uri": "https://localhost:8080/",
          "height": 34
        },
        "outputId": "230b94b1-b41e-4c70-a3bb-ebb5611ea54e"
      },
      "source": [
        "date_filter_start = data_daily.filter(like='2000-01-03', axis = 0) \n",
        "start_adjusted_close_price = date_filter_start['5. adjusted close'][0]\n",
        "starting_shares = initial_investment / start_adjusted_close_price\n",
        "print(start_adjusted_close_price)"
      ],
      "execution_count": 43,
      "outputs": [
        {
          "output_type": "stream",
          "text": [
            "98.5115\n"
          ],
          "name": "stdout"
        }
      ]
    },
    {
      "cell_type": "markdown",
      "metadata": {
        "id": "0Wc5Uo7sASVs",
        "colab_type": "text"
      },
      "source": [
        "end date"
      ]
    },
    {
      "cell_type": "code",
      "metadata": {
        "id": "I0ZFl2cs_rxo",
        "colab_type": "code",
        "colab": {
          "base_uri": "https://localhost:8080/",
          "height": 34
        },
        "outputId": "8493b218-4428-41f2-8377-aa82d980dd85"
      },
      "source": [
        "date_filter_end = data_daily.filter(like='2019-12-31', axis = 0)\n",
        "end_adjusted_close_price = date_filter_end['5. adjusted close'][0]\n",
        "print(start_adjusted_close_price)"
      ],
      "execution_count": 47,
      "outputs": [
        {
          "output_type": "stream",
          "text": [
            "317.2003\n"
          ],
          "name": "stdout"
        }
      ]
    },
    {
      "cell_type": "code",
      "metadata": {
        "id": "HBFZq1Wl-R29",
        "colab_type": "code",
        "colab": {}
      },
      "source": [
        "data_daily.filter(like='2000-01-03', axis = 0)\n",
        "# start_adjusted_close_price = date_filter['5. adjusted close'][-1]\n",
        "# print(start_adjusted_close_price)"
      ],
      "execution_count": null,
      "outputs": []
    },
    {
      "cell_type": "code",
      "metadata": {
        "id": "KQrzHTzp-dQb",
        "colab_type": "code",
        "colab": {
          "base_uri": "https://localhost:8080/",
          "height": 111
        },
        "outputId": "947330d1-0a26-43db-bc58-8cbf08fb0d3b"
      },
      "source": [
        "data_daily.filter(like='2019-12-31', axis = 0)"
      ],
      "execution_count": 34,
      "outputs": [
        {
          "output_type": "execute_result",
          "data": {
            "text/html": [
              "<div>\n",
              "<style scoped>\n",
              "    .dataframe tbody tr th:only-of-type {\n",
              "        vertical-align: middle;\n",
              "    }\n",
              "\n",
              "    .dataframe tbody tr th {\n",
              "        vertical-align: top;\n",
              "    }\n",
              "\n",
              "    .dataframe thead th {\n",
              "        text-align: right;\n",
              "    }\n",
              "</style>\n",
              "<table border=\"1\" class=\"dataframe\">\n",
              "  <thead>\n",
              "    <tr style=\"text-align: right;\">\n",
              "      <th></th>\n",
              "      <th>1. open</th>\n",
              "      <th>2. high</th>\n",
              "      <th>3. low</th>\n",
              "      <th>4. close</th>\n",
              "      <th>5. adjusted close</th>\n",
              "      <th>6. volume</th>\n",
              "      <th>7. dividend amount</th>\n",
              "      <th>8. split coefficient</th>\n",
              "    </tr>\n",
              "    <tr>\n",
              "      <th>date</th>\n",
              "      <th></th>\n",
              "      <th></th>\n",
              "      <th></th>\n",
              "      <th></th>\n",
              "      <th></th>\n",
              "      <th></th>\n",
              "      <th></th>\n",
              "      <th></th>\n",
              "    </tr>\n",
              "  </thead>\n",
              "  <tbody>\n",
              "    <tr>\n",
              "      <th>2019-12-31</th>\n",
              "      <td>320.53</td>\n",
              "      <td>322.13</td>\n",
              "      <td>320.15</td>\n",
              "      <td>321.86</td>\n",
              "      <td>317.2003</td>\n",
              "      <td>57059907.0</td>\n",
              "      <td>0.0</td>\n",
              "      <td>1.0</td>\n",
              "    </tr>\n",
              "  </tbody>\n",
              "</table>\n",
              "</div>"
            ],
            "text/plain": [
              "            1. open  2. high  ...  7. dividend amount  8. split coefficient\n",
              "date                          ...                                          \n",
              "2019-12-31   320.53   322.13  ...                 0.0                   1.0\n",
              "\n",
              "[1 rows x 8 columns]"
            ]
          },
          "metadata": {
            "tags": []
          },
          "execution_count": 34
        }
      ]
    },
    {
      "cell_type": "code",
      "metadata": {
        "id": "wTCXbjp5OPti",
        "colab_type": "code",
        "colab": {}
      },
      "source": [
        "test = date_filter['date'][-1]\n",
        "print(test)"
      ],
      "execution_count": null,
      "outputs": []
    },
    {
      "cell_type": "code",
      "metadata": {
        "id": "TI8vinsoOOtY",
        "colab_type": "code",
        "colab": {}
      },
      "source": [
        "print(date_filter)"
      ],
      "execution_count": null,
      "outputs": []
    },
    {
      "cell_type": "markdown",
      "metadata": {
        "id": "1MSy5kxDUiXH",
        "colab_type": "text"
      },
      "source": [
        "## Step 2. `$10,000` + `$1,000` Monthly and `100% Position` "
      ]
    },
    {
      "cell_type": "code",
      "metadata": {
        "id": "L7WFwfX7cOCS",
        "colab_type": "code",
        "colab": {}
      },
      "source": [
        "# start_date = '2000-01-01'\n",
        "# end_date = '2019-12-31'\n",
        "# number_of_years = float(end_date - start_date) #should be 20 years ish\n",
        "number_of_years = 20\n",
        "\n",
        "initial_investment = 10000\n",
        "monthly_deposit = 1000\n",
        "\n",
        "\n",
        "    # step 1\n",
        "date_filter = data_daily # range between start_date and end_date to create new dataframe\n",
        "\n",
        "    # step 2 - Get Starting current_balance\n",
        "start_current_balance = initial_investment\n",
        "\n",
        "    # step 3 - get starting current_shares\n",
        "start_adjusted_close_price = date_filter['5. adjusted close'][0]\n",
        "start_current_shares = start_current_balance / start_adjusted_close_price\n",
        "\n",
        "    # Settings for loop\n",
        "current_balance = 0\n",
        "current_shares = 0\n",
        "current_date = 0\n",
        "total_deposits = 0\n",
        "deposit_dates = {}  # date , investment amount \n",
        "\n",
        "deposit_dates.append(start_date, int(initial_investment)) # add starting balance to deposit_dates_list\n",
        "\n",
        "    # step 4 - Itterate trough all the rows in the dataframe and buy shares if it is a new month\n",
        "for index, row in date_filter.iterrows():\n",
        "  \n",
        "    current_date = index # set current index date row to current_date\n",
        "\n",
        "    if current_date #is new month ():\n",
        "        current_balance =+ monthly_deposit # add $1000 to current_balance\n",
        "        current_shares =+ (current_balance / row['5. adjusted close'] ) # figure out how many new shares we are buying \n",
        "        total_deposits =+ 1 # add to total_deposits that we made a new deposit\n",
        "        deposit_dates.append(current_date, int(monthly_deposit)) #add current date for each deposit to the dic \n",
        "    elif:\n",
        "        continue\n",
        "\n",
        "    # Step 6. figure out average age of deposits\n",
        "age_ratio = []\n",
        "\n",
        "for date, deposit in deposit_dates.items(): # loop trough all the deposits in dictironary and figure out age ratio for each deposit\n",
        "    ratio = float(((end_date - date)/365) * deposit)\n",
        "    age_ratio.append(ratio)\n",
        "\n",
        "\n",
        "    # End Price\n",
        "end_adjusted_close_price = date_filter['5. adjusted close'][-1] #get the ending adjusted_close price\n",
        "\n",
        "    # Final Math\n",
        "step2_total_deposits = int((total_deposits * monthly_deposit) + initial_investment)\n",
        "step2_final_value = round((current_shares * end_adjusted_close_price), 2)\n",
        "step2_profit = round((step2_final_value - step2_total_deposits, 2)\n",
        "step2_roi = round((step2_profit / step2_total_deposits), 2)\n",
        "step2_age = round((float(sum(age_ratio) / step2_total_deposits)),2)\n",
        "step2_cagr = round(((math.log(step2_final_value/step2_total_deposits)) / (math.log(1+step2_age))),2)\n",
        "\n",
        "    #print results\n",
        "print(\"Total Deposits : {} \".format(step2_total_deposits))\n",
        "print(\"Portfolio Value : {} \".format(step2_final_value))\n",
        "print(\"Investment Profit : {} \".format(step2_profit))\n",
        "print(\"ROI : {} \".format(step2_roi))\n",
        "print(\"CAGR : {} \".format(step2_cagr))\n",
        "\n"
      ],
      "execution_count": null,
      "outputs": []
    },
    {
      "cell_type": "markdown",
      "metadata": {
        "id": "rTP4H-OjUtRu",
        "colab_type": "text"
      },
      "source": [
        "## Step 3. `$10,000` + `$1,000` Monthly and `Variable Position` "
      ]
    },
    {
      "cell_type": "code",
      "metadata": {
        "id": "NLT_UEJ-R-jp",
        "colab_type": "code",
        "colab": {}
      },
      "source": [
        "start_date = '2000-01-01'\n",
        "end_date = '2019-12-31'\n",
        "number_of_years = end_date - start_date #should be 20 years ish\n",
        "\n",
        "\n",
        "initial_investment = 10000\n",
        "monthly_deposit = 1000\n",
        "\n",
        "\n",
        "    # Step 1 > Set date range between start_date and end_date to create new dataframe\n",
        "date_filter = data_daily #\n",
        "\n",
        "\n",
        "    # Step 2 > Starting settings\n",
        "current_balance = 10000\n",
        "current_shares = 0\n",
        "current_date = 0\n",
        "portfolio_value = 0\n",
        "\n",
        "total_deposits_count = 0\n",
        "total_shares_purchases_count = 0\n",
        "\n",
        "portfolio_deposits = {} #log every deposit in dictionary \n",
        "portfolio_trades = {} #log every trade in dictrionary\n",
        "market_statuses = {} #log every market status for each day\n",
        "\n",
        "\n",
        "    # Main Loop\n",
        "for index, row in date_filter.iterrows():\n",
        "\n",
        "    current_date = index # set current index date row to current_date\n",
        "\n",
        "        # Determine if its a date we deposit or not\n",
        "    if current_date # is new month ():\n",
        "        current_balance =+ monthly_deposit # add $1000 to current_balance\n",
        "        total_deposits_count =+ 1 # add to total_deposits that we made a new deposit\n",
        "        portfolio_deposits.append(current_date, int(monthly_deposit)) #add current date for each deposit to the dic\n",
        "    else:\n",
        "        continue\n",
        "\n",
        "\n",
        "        # Figure out what the market status is, if it is down or up compared to all time high\n",
        "    current_market_price = data_daily['5. adjusted close']\n",
        "    market_all_time_high = float(max(portfolio_trades)[1]) # highest value in the dictionary \n",
        "    current_market_change = float(current_market_price - market_all_time_high) # ex -50\n",
        "    current_market_rating = float(current_market_change / market_all_time_high) # ex -0.33\n",
        "    market_satuses.append(current_date, current_market_price, market_all_time_high, current_market_change, current_market_rating)\n",
        "\n",
        "\n",
        "        # How much cash do we need to kee on hand based on the market status\n",
        "            # https://www.tutorialspoint.com/python/comparison_operators_example.htm\n",
        "\n",
        "    if (current_market_status > 0):  #greater than 0\n",
        "        current_cash_required_equity = 0.30\n",
        "    elif (current_market_status > -0.05): #less than 5%\n",
        "        current_cash_required_equity = 0.25\n",
        "    elif (current_market_status > -0.10): #less than 10%\n",
        "        current_cash_required_equity = 0.20 \n",
        "    elif (current_market_status > -0.15): #less than 15%\n",
        "        current_cash_required_equity = 0.15\n",
        "    elif (current_market_status > -0.20): #less than 20%\n",
        "        current_cash_required_equity = 0.10\n",
        "    elif (current_market_status > -0.25): #less than 25%\n",
        "        current_cash_required_equity = 0.05\n",
        "    elif (current_market_status > -0.30): #less than 30%\n",
        "        current_cash_required_equity = 0\n",
        "\n",
        "\n",
        "        # How many shares do we need to buy if any based on market status\n",
        "    portfolio_value = float((current_balance + (current_shares * current_market_price)))\n",
        "    current_cash_required = float(current_cash_required_equity * portfolio_value)\n",
        "    if (current_cash_required < current_balance): \n",
        "        cash_to_purchase_shares = float(current_balance - current_cash_required)\n",
        "        current_shares =+ (cash_to_purchase_shares / row['5. adjusted close'] ) # figure out how many new shares we are buying\n",
        "        current_balance =- (cash_to_purchase_shares) # adjust current balance for shares purchased\n",
        "        total_shares_purchases_count =+ 1 # add 1 to total count\n",
        "        portfolio_trades.append(current_date, cash_to_purchase_shares, current_shares, current_balance)\n",
        "    else ():\n",
        "        continue\n",
        "  \n",
        "\n",
        "    # Figuring out Age Ratio\n",
        "age_ratio = []\n",
        "\n",
        "for date, portfolio_depositss in portfolio_deposits.items(): # loop trough all the deposits in dictironary and figure out age ratio for each deposit\n",
        "    ratio = float(((end_date - date)/365) * deposit)\n",
        "    age_ratio.append(ratio)\n",
        "\n",
        "\n",
        "    # Final Math\n",
        "step3_total_deposits = int((total_deposits_count * monthly_deposit) + initial_investment)\n",
        "step3_final_value = round(portfolio_value, 2)\n",
        "step3_profit = round((step3_final_value - step3_total_deposits, 2)\n",
        "step3_roi = round(((step3_profit / step3_total_deposits), 2)\n",
        "step3_age = round((float(sum(age_ratio) / step3_total_deposits)),2)\n",
        "step3_cagr = round(((math.log(step3_final_value/step2_total_deposits)) / (math.log(1+step3_age))),2)\n",
        "\n",
        "\n",
        "    # Print Results\n",
        "print(\"Total Deposits : {} \".format(step3_total_deposits))\n",
        "print(\"Portfolio Value : {} \".format(step3_final_value))\n",
        "print(\"Investment Profit : {} \".format(step3_profit))\n",
        "print(\"ROI : {} \".format(step3_roi))\n",
        "print(\"CAGR : {} \".format(step3_cagr))"
      ],
      "execution_count": null,
      "outputs": []
    },
    {
      "cell_type": "markdown",
      "metadata": {
        "id": "GX0tn1esShk2",
        "colab_type": "text"
      },
      "source": [
        "# **Reasearch Notes**"
      ]
    },
    {
      "cell_type": "markdown",
      "metadata": {
        "id": "Anrm5eawv-iC",
        "colab_type": "text"
      },
      "source": [
        "Testing out elif loops"
      ]
    },
    {
      "cell_type": "code",
      "metadata": {
        "id": "CcXeZvbvv_5m",
        "colab_type": "code",
        "colab": {
          "base_uri": "https://localhost:8080/",
          "height": 34
        },
        "outputId": "21a4c261-5391-44ec-ebf4-8baab662c4c1"
      },
      "source": [
        "current_cash_required = 0\n",
        "current_market_status = -0.09\n",
        "\n",
        "if (current_market_status > 0):  #greater than 0\n",
        "    current_cash_required_equity = 0.30\n",
        "elif (current_market_status > -0.05): #less than 5%\n",
        "    current_cash_required_equity = 0.25\n",
        "elif (current_market_status > -0.10): #less than 10%\n",
        "    current_cash_required_equity = 0.20 \n",
        "elif (current_market_status > -0.15): #less than 15%\n",
        "    current_cash_required_equity = 0.15\n",
        "elif (current_market_status > -0.20): #less than 20%\n",
        "    current_cash_required_equity = 0.10\n",
        "elif (current_market_status > -0.25): #less than 25%\n",
        "    current_cash_required_equity = 0.05\n",
        "elif (current_market_status > -0.30): #less than 30%\n",
        "    current_cash_required_equity = 0\n",
        "\n",
        "print(float(current_cash_required_equity))"
      ],
      "execution_count": null,
      "outputs": [
        {
          "output_type": "stream",
          "text": [
            "0.2\n"
          ],
          "name": "stdout"
        }
      ]
    },
    {
      "cell_type": "markdown",
      "metadata": {
        "id": "6abjaof5TaQQ",
        "colab_type": "text"
      },
      "source": [
        "## **Possible structure for the loop**"
      ]
    },
    {
      "cell_type": "code",
      "metadata": {
        "id": "cmBGDErpOanZ",
        "colab_type": "code",
        "colab": {}
      },
      "source": [
        "current_cash = 10000\n",
        "deposit_amount = 1000\n",
        "deposit_frequency = 5 #every 7 days\n",
        "deposit_dates = [] # this list is of dates that a deposit will execute one \n",
        "    # we need to create a loop that will append 7 week to the current date and generate a list of all mondays\n",
        "    # If monday is closed for trading, than we will use next avaiable trading day\n",
        "    # than it resets back to original \n",
        "    # print out the generated deposit dates to test if this works \n",
        "\n",
        "\n",
        "\n",
        "count_trades = 0 #number of times \n",
        "count_deposits = 0 #count number of deposits\n",
        "count_cash_deposited = 0 # count total value of cash that was depoisited \n",
        "count_profit = 0 #total profit of portfolio\n",
        "\n",
        "current_shares_count = 0 # total number of shares owend\n",
        "current_stock_price = 0 # current stock market price\n",
        "\n",
        "\n",
        "\n",
        "for i in df.index:\n",
        "     \n",
        "    current_trading_date = # the next date in the loop trough the dataframe\n",
        "    current_stock_price = # the next stock price in  the loop troough the dataframe\n",
        "    current_market_all_time_high = # this needs to be an if statement\n",
        "        # if current price is above market high than set new current_market_all_time_high\n",
        "        # if its not ,t han the current one stays \n",
        "    current_market_change = current_stock_price - current_market_all_time_high\n",
        "\n",
        "    # Setting market status\n",
        "    current_market_status = current_market_change - current_market_all_time_high\n",
        "    \n",
        "    current_cash_required = # loop based on current marekt status\n",
        "        if current_market_status > 0 than current_cash_required = 0.30\n",
        "        elif current_market_status < 0  >=-5 than current_cash_required = 0.25\n",
        "        elif current_market_status < -5  >=-10 than current_cash_required = 0.20\n",
        "        elif current_market_status < -15  >=-15 than current_cash_required = 0.10\n",
        "\n",
        "\n",
        "    # now that we know market status, we need see if we can deposit or not\n",
        "    if current_trading_date == a date inside the lsit deposit_dates:\n",
        "        current_cash =+ deposit_amount # we deposit the amoutn set into current cash\n",
        "    elif continue \n",
        "\n",
        "    current_cash_equity = current_cash / current_portfolio_value\n",
        "    \n",
        "    # now we need to figure out if we need to buy shares or not\n",
        "    if current_cash_equity > required_cash_equity\n",
        "        stock_purchase_cash = current_cash_equity - required_cash_equity\n",
        "        total_shares_purchased = stock_purchase_cash / current_stock_price\n",
        "        current_shares_count =+ total_shares_purchased\n",
        "\n",
        "    # Now we set current portfolio value \n",
        "    current_portfolio_value = (current_shares_count * current_stock_price) + current_cash\n",
        "\n",
        "    # now we add all of this data to new dataframe that will track the results for each day\n",
        "        # save date, and all the metrics that where set bc of this \n",
        "\n",
        "# Now at the end print out the to tal profit, total tradess, ect \n",
        "\n",
        "\n",
        "\n",
        "\n",
        "\n",
        "\n",
        "\n"
      ],
      "execution_count": null,
      "outputs": []
    },
    {
      "cell_type": "markdown",
      "metadata": {
        "id": "g1dJm3wF1z2J",
        "colab_type": "text"
      },
      "source": [
        "## **Itteration Test**"
      ]
    },
    {
      "cell_type": "code",
      "metadata": {
        "id": "pvlKb1L4a9u5",
        "colab_type": "code",
        "colab": {}
      },
      "source": [
        "    # Creating a list of all days thaht will have a trade executed\n",
        "\n",
        "matches = []\n",
        "for index, row in df.iterrows():\n",
        "    item = index\n",
        "for match in date_list:\n",
        "    if index in match:\n",
        "        matches.append(match)\n",
        "\n",
        "    #print(index, row['1. open'])\n",
        "print(matches)\n",
        "\n"
      ],
      "execution_count": null,
      "outputs": []
    },
    {
      "cell_type": "markdown",
      "metadata": {
        "id": "x80VyFTLd0C8",
        "colab_type": "text"
      },
      "source": [
        "##  **Interacting With DataFrame**"
      ]
    },
    {
      "cell_type": "markdown",
      "metadata": {
        "id": "6CvtpuaWcqAC",
        "colab_type": "text"
      },
      "source": [
        "For each row in the dataframe, displaying the date and the open price"
      ]
    },
    {
      "cell_type": "code",
      "metadata": {
        "id": "D9ss0XXVdW7g",
        "colab_type": "code",
        "colab": {}
      },
      "source": [
        "for index, row in data_daily.iterrows():\n",
        "    print(index, row['1. open'])"
      ],
      "execution_count": null,
      "outputs": []
    },
    {
      "cell_type": "code",
      "metadata": {
        "id": "Zb9mpee-E3r1",
        "colab_type": "code",
        "colab": {}
      },
      "source": [
        "for index, row in data_daily.iterrows():\n",
        "    "
      ],
      "execution_count": null,
      "outputs": []
    },
    {
      "cell_type": "markdown",
      "metadata": {
        "id": "64-OJo7Khm97",
        "colab_type": "text"
      },
      "source": [
        "print out all columns names in dataframe"
      ]
    },
    {
      "cell_type": "code",
      "metadata": {
        "id": "cGCIWmH_hqTS",
        "colab_type": "code",
        "colab": {}
      },
      "source": [
        "for (columnName, columnData) in data_daily.iteritems():\n",
        "   print('Colunm Name : ', columnName)\n",
        "   print('Column Contents : ', columnData.values)"
      ],
      "execution_count": null,
      "outputs": []
    },
    {
      "cell_type": "markdown",
      "metadata": {
        "id": "NqMoTT-TP-SG",
        "colab_type": "text"
      },
      "source": [
        "Plotting Charts"
      ]
    },
    {
      "cell_type": "code",
      "metadata": {
        "id": "LutKOqITP92K",
        "colab_type": "code",
        "colab": {}
      },
      "source": [
        "data_daily['4. close'].plot()\n",
        "plt.title('Stock chart')\n",
        "plt.show()"
      ],
      "execution_count": null,
      "outputs": []
    },
    {
      "cell_type": "markdown",
      "metadata": {
        "id": "7-TQ0kkgdEqI",
        "colab_type": "text"
      },
      "source": [
        "Filtering Date Ranges in the pandas dataframe "
      ]
    },
    {
      "cell_type": "code",
      "metadata": {
        "id": "GAPK4KtcLQ4F",
        "colab_type": "code",
        "colab": {}
      },
      "source": [
        "start_date = \"2019-1-1\"\n",
        "end_date = \"2019-1-31\"\n",
        "\n",
        "after_start_date = data_daily['index'] >= start_date\n",
        "before_end_date = data_daily['index'] <= end_date\n",
        "between_two_dates = after_start_date & before_end_date\n",
        "filtered_dates = df.loc[between_two_dates]\n",
        "\n",
        "print(filtered_dates)"
      ],
      "execution_count": null,
      "outputs": []
    },
    {
      "cell_type": "code",
      "metadata": {
        "id": "bdKwh2XWMiLi",
        "colab_type": "code",
        "colab": {}
      },
      "source": [
        "start_date = '03-01-1996'\n",
        "end_date = '06-01-1997'\n",
        "\n",
        "mask = (df['date'] > start_date) & (df['date'] <= end_date)\n",
        "\n",
        "df = df.loc[mask]\n",
        "df"
      ],
      "execution_count": null,
      "outputs": []
    },
    {
      "cell_type": "markdown",
      "metadata": {
        "id": "xb_4FW2Qg1N5",
        "colab_type": "text"
      },
      "source": [
        ">**Prints Empty DataFrame Error**\n",
        "\n",
        ">```\n",
        "\t1. open\t2. high\t3. low\t4. close\t5. adjusted close\t6. volume\t7. dividend amount\t8. split coefficient\n",
        "date\t\n",
        "```\n",
        "- https://stackoverflow.com/questions/22898824/filtering-pandas-dataframes-on-dates"
      ]
    },
    {
      "cell_type": "code",
      "metadata": {
        "id": "YImkZOCVg7NO",
        "colab_type": "code",
        "colab": {}
      },
      "source": [
        "print(data_daily.loc[datetime.date(year=2014,month=1,day=1):datetime.date(year=2015,month=2,day=1)])"
      ],
      "execution_count": null,
      "outputs": []
    },
    {
      "cell_type": "code",
      "metadata": {
        "id": "Nf5c6mqAK1Zu",
        "colab_type": "code",
        "colab": {}
      },
      "source": [
        "df.loc['2014-01-01':'2014-02-01']"
      ],
      "execution_count": null,
      "outputs": []
    },
    {
      "cell_type": "markdown",
      "metadata": {
        "id": "lWfBdkSIxaqm",
        "colab_type": "text"
      },
      "source": [
        "Adding days to `start_date` and adding them to `date_list=[]`"
      ]
    },
    {
      "cell_type": "code",
      "metadata": {
        "id": "Q6npiQkybzwg",
        "colab_type": "code",
        "colab": {}
      },
      "source": [
        "# Test example to create a list of possible deposit days\n",
        "date_list = []\n",
        "\n",
        "start_date = datetime.date(2018, 12, 31)\n",
        "end_date = datetime.date(2020, 1, 4)\n",
        "delta = datetime.timedelta(days=30)\n",
        "\n",
        "while start_date <= end_date:\n",
        "    print(start_date)\n",
        "    start_date += delta\n",
        "    date_list.append(start_date)\n",
        "    \n",
        "print(date_list)"
      ],
      "execution_count": null,
      "outputs": []
    },
    {
      "cell_type": "markdown",
      "metadata": {
        "id": "DMgazqAljlqv",
        "colab_type": "text"
      },
      "source": [
        "## Date range filters\n",
        "\n",
        "https://pandas.pydata.org/pandas-docs/stable/reference/api/pandas.DataFrame.filter.html"
      ]
    },
    {
      "cell_type": "code",
      "metadata": {
        "id": "AihSXhzI9foF",
        "colab_type": "code",
        "colab": {
          "base_uri": "https://localhost:8080/",
          "height": 272
        },
        "outputId": "433f6408-fe36-4ca0-e2f0-80c70f2560c9"
      },
      "source": [
        "print(data_daily)"
      ],
      "execution_count": 10,
      "outputs": [
        {
          "output_type": "stream",
          "text": [
            "             1. open   2. high  ...  7. dividend amount  8. split coefficient\n",
            "date                            ...                                          \n",
            "2020-09-21  325.7000  327.1300  ...              0.0000                   1.0\n",
            "2020-09-18  335.3700  335.4900  ...              1.3392                   1.0\n",
            "2020-09-17  333.5600  337.6996  ...              0.0000                   1.0\n",
            "2020-09-16  341.5100  343.0600  ...              0.0000                   1.0\n",
            "2020-09-15  341.1200  342.0200  ...              0.0000                   1.0\n",
            "...              ...       ...  ...                 ...                   ...\n",
            "1999-11-05  138.6250  139.1093  ...              0.0000                   1.0\n",
            "1999-11-04  136.7500  137.3593  ...              0.0000                   1.0\n",
            "1999-11-03  136.0000  136.3750  ...              0.0000                   1.0\n",
            "1999-11-02  135.9687  137.2500  ...              0.0000                   1.0\n",
            "1999-11-01  136.5000  137.0000  ...              0.0000                   1.0\n",
            "\n",
            "[5256 rows x 8 columns]\n"
          ],
          "name": "stdout"
        }
      ]
    },
    {
      "cell_type": "code",
      "metadata": {
        "id": "AMlzPiji9V-T",
        "colab_type": "code",
        "colab": {
          "base_uri": "https://localhost:8080/",
          "height": 1000
        },
        "outputId": "282eefe2-0041-4b74-b6f8-9f13ae8529db"
      },
      "source": [
        "data_daily.filter(like='1999', axis = 0)"
      ],
      "execution_count": 16,
      "outputs": [
        {
          "output_type": "execute_result",
          "data": {
            "text/html": [
              "<div>\n",
              "<style scoped>\n",
              "    .dataframe tbody tr th:only-of-type {\n",
              "        vertical-align: middle;\n",
              "    }\n",
              "\n",
              "    .dataframe tbody tr th {\n",
              "        vertical-align: top;\n",
              "    }\n",
              "\n",
              "    .dataframe thead th {\n",
              "        text-align: right;\n",
              "    }\n",
              "</style>\n",
              "<table border=\"1\" class=\"dataframe\">\n",
              "  <thead>\n",
              "    <tr style=\"text-align: right;\">\n",
              "      <th></th>\n",
              "      <th>1. open</th>\n",
              "      <th>2. high</th>\n",
              "      <th>3. low</th>\n",
              "      <th>4. close</th>\n",
              "      <th>5. adjusted close</th>\n",
              "      <th>6. volume</th>\n",
              "      <th>7. dividend amount</th>\n",
              "      <th>8. split coefficient</th>\n",
              "    </tr>\n",
              "    <tr>\n",
              "      <th>date</th>\n",
              "      <th></th>\n",
              "      <th></th>\n",
              "      <th></th>\n",
              "      <th></th>\n",
              "      <th></th>\n",
              "      <th></th>\n",
              "      <th></th>\n",
              "      <th></th>\n",
              "    </tr>\n",
              "  </thead>\n",
              "  <tbody>\n",
              "    <tr>\n",
              "      <th>1999-12-31</th>\n",
              "      <td>146.8437</td>\n",
              "      <td>147.5000</td>\n",
              "      <td>146.2500</td>\n",
              "      <td>146.8750</td>\n",
              "      <td>99.4852</td>\n",
              "      <td>3172700.0</td>\n",
              "      <td>0.0000</td>\n",
              "      <td>1.0</td>\n",
              "    </tr>\n",
              "    <tr>\n",
              "      <th>1999-12-30</th>\n",
              "      <td>147.1250</td>\n",
              "      <td>147.5625</td>\n",
              "      <td>146.1875</td>\n",
              "      <td>146.6406</td>\n",
              "      <td>99.3265</td>\n",
              "      <td>3641300.0</td>\n",
              "      <td>0.0000</td>\n",
              "      <td>1.0</td>\n",
              "    </tr>\n",
              "    <tr>\n",
              "      <th>1999-12-29</th>\n",
              "      <td>146.3125</td>\n",
              "      <td>146.8125</td>\n",
              "      <td>145.3125</td>\n",
              "      <td>146.8125</td>\n",
              "      <td>99.4429</td>\n",
              "      <td>3001000.0</td>\n",
              "      <td>0.0000</td>\n",
              "      <td>1.0</td>\n",
              "    </tr>\n",
              "    <tr>\n",
              "      <th>1999-12-28</th>\n",
              "      <td>145.8750</td>\n",
              "      <td>146.5000</td>\n",
              "      <td>145.4843</td>\n",
              "      <td>146.1875</td>\n",
              "      <td>99.0195</td>\n",
              "      <td>4084500.0</td>\n",
              "      <td>0.0000</td>\n",
              "      <td>1.0</td>\n",
              "    </tr>\n",
              "    <tr>\n",
              "      <th>1999-12-27</th>\n",
              "      <td>146.5000</td>\n",
              "      <td>146.7812</td>\n",
              "      <td>145.0625</td>\n",
              "      <td>146.2812</td>\n",
              "      <td>99.0830</td>\n",
              "      <td>2691000.0</td>\n",
              "      <td>0.0000</td>\n",
              "      <td>1.0</td>\n",
              "    </tr>\n",
              "    <tr>\n",
              "      <th>1999-12-23</th>\n",
              "      <td>145.0156</td>\n",
              "      <td>146.4843</td>\n",
              "      <td>145.0000</td>\n",
              "      <td>146.4843</td>\n",
              "      <td>99.2206</td>\n",
              "      <td>5721700.0</td>\n",
              "      <td>0.0000</td>\n",
              "      <td>1.0</td>\n",
              "    </tr>\n",
              "    <tr>\n",
              "      <th>1999-12-22</th>\n",
              "      <td>143.6250</td>\n",
              "      <td>144.1875</td>\n",
              "      <td>142.9687</td>\n",
              "      <td>144.1875</td>\n",
              "      <td>97.6649</td>\n",
              "      <td>5377500.0</td>\n",
              "      <td>0.0000</td>\n",
              "      <td>1.0</td>\n",
              "    </tr>\n",
              "    <tr>\n",
              "      <th>1999-12-21</th>\n",
              "      <td>141.5937</td>\n",
              "      <td>144.0625</td>\n",
              "      <td>141.3437</td>\n",
              "      <td>143.8125</td>\n",
              "      <td>97.4109</td>\n",
              "      <td>7981300.0</td>\n",
              "      <td>0.0000</td>\n",
              "      <td>1.0</td>\n",
              "    </tr>\n",
              "    <tr>\n",
              "      <th>1999-12-20</th>\n",
              "      <td>142.5625</td>\n",
              "      <td>143.1875</td>\n",
              "      <td>141.0937</td>\n",
              "      <td>141.6562</td>\n",
              "      <td>95.9503</td>\n",
              "      <td>4608700.0</td>\n",
              "      <td>0.0000</td>\n",
              "      <td>1.0</td>\n",
              "    </tr>\n",
              "    <tr>\n",
              "      <th>1999-12-17</th>\n",
              "      <td>143.0000</td>\n",
              "      <td>143.3125</td>\n",
              "      <td>142.0625</td>\n",
              "      <td>142.6875</td>\n",
              "      <td>96.6488</td>\n",
              "      <td>4775400.0</td>\n",
              "      <td>0.3476</td>\n",
              "      <td>1.0</td>\n",
              "    </tr>\n",
              "    <tr>\n",
              "      <th>1999-12-16</th>\n",
              "      <td>142.1875</td>\n",
              "      <td>142.6562</td>\n",
              "      <td>141.1562</td>\n",
              "      <td>142.1250</td>\n",
              "      <td>96.0339</td>\n",
              "      <td>5854900.0</td>\n",
              "      <td>0.0000</td>\n",
              "      <td>1.0</td>\n",
              "    </tr>\n",
              "    <tr>\n",
              "      <th>1999-12-15</th>\n",
              "      <td>140.3750</td>\n",
              "      <td>142.2031</td>\n",
              "      <td>140.0312</td>\n",
              "      <td>141.5000</td>\n",
              "      <td>95.6116</td>\n",
              "      <td>6879100.0</td>\n",
              "      <td>0.0000</td>\n",
              "      <td>1.0</td>\n",
              "    </tr>\n",
              "    <tr>\n",
              "      <th>1999-12-14</th>\n",
              "      <td>141.6250</td>\n",
              "      <td>142.4843</td>\n",
              "      <td>140.6250</td>\n",
              "      <td>140.7500</td>\n",
              "      <td>95.1048</td>\n",
              "      <td>5739000.0</td>\n",
              "      <td>0.0000</td>\n",
              "      <td>1.0</td>\n",
              "    </tr>\n",
              "    <tr>\n",
              "      <th>1999-12-13</th>\n",
              "      <td>141.4375</td>\n",
              "      <td>142.7187</td>\n",
              "      <td>141.2812</td>\n",
              "      <td>142.1250</td>\n",
              "      <td>96.0339</td>\n",
              "      <td>4210800.0</td>\n",
              "      <td>0.0000</td>\n",
              "      <td>1.0</td>\n",
              "    </tr>\n",
              "    <tr>\n",
              "      <th>1999-12-10</th>\n",
              "      <td>142.2812</td>\n",
              "      <td>142.8125</td>\n",
              "      <td>140.8750</td>\n",
              "      <td>141.8750</td>\n",
              "      <td>95.8650</td>\n",
              "      <td>5127300.0</td>\n",
              "      <td>0.0000</td>\n",
              "      <td>1.0</td>\n",
              "    </tr>\n",
              "    <tr>\n",
              "      <th>1999-12-09</th>\n",
              "      <td>141.8125</td>\n",
              "      <td>142.2187</td>\n",
              "      <td>139.3750</td>\n",
              "      <td>141.4062</td>\n",
              "      <td>95.5482</td>\n",
              "      <td>6474700.0</td>\n",
              "      <td>0.0000</td>\n",
              "      <td>1.0</td>\n",
              "    </tr>\n",
              "    <tr>\n",
              "      <th>1999-12-08</th>\n",
              "      <td>141.3437</td>\n",
              "      <td>142.0625</td>\n",
              "      <td>140.5000</td>\n",
              "      <td>140.7187</td>\n",
              "      <td>95.0837</td>\n",
              "      <td>4611400.0</td>\n",
              "      <td>0.0000</td>\n",
              "      <td>1.0</td>\n",
              "    </tr>\n",
              "    <tr>\n",
              "      <th>1999-12-07</th>\n",
              "      <td>143.2812</td>\n",
              "      <td>143.3125</td>\n",
              "      <td>141.3750</td>\n",
              "      <td>141.6250</td>\n",
              "      <td>95.6961</td>\n",
              "      <td>10714200.0</td>\n",
              "      <td>0.0000</td>\n",
              "      <td>1.0</td>\n",
              "    </tr>\n",
              "    <tr>\n",
              "      <th>1999-12-06</th>\n",
              "      <td>143.5312</td>\n",
              "      <td>143.7187</td>\n",
              "      <td>142.2500</td>\n",
              "      <td>142.7812</td>\n",
              "      <td>96.4773</td>\n",
              "      <td>3138900.0</td>\n",
              "      <td>0.0000</td>\n",
              "      <td>1.0</td>\n",
              "    </tr>\n",
              "    <tr>\n",
              "      <th>1999-12-03</th>\n",
              "      <td>143.0312</td>\n",
              "      <td>145.3437</td>\n",
              "      <td>143.0312</td>\n",
              "      <td>143.8437</td>\n",
              "      <td>97.1952</td>\n",
              "      <td>10045400.0</td>\n",
              "      <td>0.0000</td>\n",
              "      <td>1.0</td>\n",
              "    </tr>\n",
              "    <tr>\n",
              "      <th>1999-12-02</th>\n",
              "      <td>140.6250</td>\n",
              "      <td>141.3750</td>\n",
              "      <td>140.3750</td>\n",
              "      <td>141.2500</td>\n",
              "      <td>95.4427</td>\n",
              "      <td>6698300.0</td>\n",
              "      <td>0.0000</td>\n",
              "      <td>1.0</td>\n",
              "    </tr>\n",
              "    <tr>\n",
              "      <th>1999-12-01</th>\n",
              "      <td>139.3125</td>\n",
              "      <td>140.5000</td>\n",
              "      <td>139.0000</td>\n",
              "      <td>140.4062</td>\n",
              "      <td>94.8725</td>\n",
              "      <td>6980200.0</td>\n",
              "      <td>0.0000</td>\n",
              "      <td>1.0</td>\n",
              "    </tr>\n",
              "    <tr>\n",
              "      <th>1999-11-30</th>\n",
              "      <td>140.7500</td>\n",
              "      <td>142.3125</td>\n",
              "      <td>139.0000</td>\n",
              "      <td>139.2812</td>\n",
              "      <td>94.1124</td>\n",
              "      <td>7682000.0</td>\n",
              "      <td>0.0000</td>\n",
              "      <td>1.0</td>\n",
              "    </tr>\n",
              "    <tr>\n",
              "      <th>1999-11-29</th>\n",
              "      <td>140.8750</td>\n",
              "      <td>141.9218</td>\n",
              "      <td>140.4375</td>\n",
              "      <td>140.9375</td>\n",
              "      <td>95.2315</td>\n",
              "      <td>7348600.0</td>\n",
              "      <td>0.0000</td>\n",
              "      <td>1.0</td>\n",
              "    </tr>\n",
              "    <tr>\n",
              "      <th>1999-11-26</th>\n",
              "      <td>142.4687</td>\n",
              "      <td>142.8750</td>\n",
              "      <td>141.2500</td>\n",
              "      <td>141.4375</td>\n",
              "      <td>95.5694</td>\n",
              "      <td>1693900.0</td>\n",
              "      <td>0.0000</td>\n",
              "      <td>1.0</td>\n",
              "    </tr>\n",
              "    <tr>\n",
              "      <th>1999-11-24</th>\n",
              "      <td>140.7500</td>\n",
              "      <td>142.4375</td>\n",
              "      <td>140.0000</td>\n",
              "      <td>141.9687</td>\n",
              "      <td>95.9283</td>\n",
              "      <td>4459700.0</td>\n",
              "      <td>0.0000</td>\n",
              "      <td>1.0</td>\n",
              "    </tr>\n",
              "    <tr>\n",
              "      <th>1999-11-23</th>\n",
              "      <td>142.8437</td>\n",
              "      <td>142.8437</td>\n",
              "      <td>140.3750</td>\n",
              "      <td>141.2187</td>\n",
              "      <td>95.4215</td>\n",
              "      <td>5918000.0</td>\n",
              "      <td>0.0000</td>\n",
              "      <td>1.0</td>\n",
              "    </tr>\n",
              "    <tr>\n",
              "      <th>1999-11-22</th>\n",
              "      <td>142.4375</td>\n",
              "      <td>143.0000</td>\n",
              "      <td>141.5000</td>\n",
              "      <td>142.4687</td>\n",
              "      <td>96.2662</td>\n",
              "      <td>4155400.0</td>\n",
              "      <td>0.0000</td>\n",
              "      <td>1.0</td>\n",
              "    </tr>\n",
              "    <tr>\n",
              "      <th>1999-11-19</th>\n",
              "      <td>142.4062</td>\n",
              "      <td>142.9687</td>\n",
              "      <td>142.0000</td>\n",
              "      <td>142.5000</td>\n",
              "      <td>96.2873</td>\n",
              "      <td>4832100.0</td>\n",
              "      <td>0.0000</td>\n",
              "      <td>1.0</td>\n",
              "    </tr>\n",
              "    <tr>\n",
              "      <th>1999-11-18</th>\n",
              "      <td>142.4375</td>\n",
              "      <td>143.0000</td>\n",
              "      <td>141.6250</td>\n",
              "      <td>142.6250</td>\n",
              "      <td>96.3718</td>\n",
              "      <td>4491000.0</td>\n",
              "      <td>0.0000</td>\n",
              "      <td>1.0</td>\n",
              "    </tr>\n",
              "    <tr>\n",
              "      <th>1999-11-17</th>\n",
              "      <td>142.2500</td>\n",
              "      <td>142.9375</td>\n",
              "      <td>141.3125</td>\n",
              "      <td>141.6250</td>\n",
              "      <td>95.6961</td>\n",
              "      <td>9459000.0</td>\n",
              "      <td>0.0000</td>\n",
              "      <td>1.0</td>\n",
              "    </tr>\n",
              "    <tr>\n",
              "      <th>1999-11-16</th>\n",
              "      <td>140.5625</td>\n",
              "      <td>143.0000</td>\n",
              "      <td>140.0937</td>\n",
              "      <td>141.2500</td>\n",
              "      <td>95.4427</td>\n",
              "      <td>7544800.0</td>\n",
              "      <td>0.0000</td>\n",
              "      <td>1.0</td>\n",
              "    </tr>\n",
              "    <tr>\n",
              "      <th>1999-11-15</th>\n",
              "      <td>139.8437</td>\n",
              "      <td>140.2500</td>\n",
              "      <td>139.4062</td>\n",
              "      <td>140.0781</td>\n",
              "      <td>94.6508</td>\n",
              "      <td>2187500.0</td>\n",
              "      <td>0.0000</td>\n",
              "      <td>1.0</td>\n",
              "    </tr>\n",
              "    <tr>\n",
              "      <th>1999-11-12</th>\n",
              "      <td>139.2500</td>\n",
              "      <td>139.9843</td>\n",
              "      <td>137.1250</td>\n",
              "      <td>139.7500</td>\n",
              "      <td>94.4291</td>\n",
              "      <td>11802900.0</td>\n",
              "      <td>0.0000</td>\n",
              "      <td>1.0</td>\n",
              "    </tr>\n",
              "    <tr>\n",
              "      <th>1999-11-11</th>\n",
              "      <td>138.1875</td>\n",
              "      <td>138.5000</td>\n",
              "      <td>137.4687</td>\n",
              "      <td>138.5000</td>\n",
              "      <td>93.5845</td>\n",
              "      <td>4794100.0</td>\n",
              "      <td>0.0000</td>\n",
              "      <td>1.0</td>\n",
              "    </tr>\n",
              "    <tr>\n",
              "      <th>1999-11-10</th>\n",
              "      <td>136.2500</td>\n",
              "      <td>138.3906</td>\n",
              "      <td>136.0781</td>\n",
              "      <td>137.7187</td>\n",
              "      <td>93.0566</td>\n",
              "      <td>6405600.0</td>\n",
              "      <td>0.0000</td>\n",
              "      <td>1.0</td>\n",
              "    </tr>\n",
              "    <tr>\n",
              "      <th>1999-11-09</th>\n",
              "      <td>138.5000</td>\n",
              "      <td>138.6875</td>\n",
              "      <td>136.2812</td>\n",
              "      <td>136.7031</td>\n",
              "      <td>92.3703</td>\n",
              "      <td>4533700.0</td>\n",
              "      <td>0.0000</td>\n",
              "      <td>1.0</td>\n",
              "    </tr>\n",
              "    <tr>\n",
              "      <th>1999-11-08</th>\n",
              "      <td>137.0000</td>\n",
              "      <td>138.3750</td>\n",
              "      <td>136.7500</td>\n",
              "      <td>138.0000</td>\n",
              "      <td>93.2467</td>\n",
              "      <td>4649200.0</td>\n",
              "      <td>0.0000</td>\n",
              "      <td>1.0</td>\n",
              "    </tr>\n",
              "    <tr>\n",
              "      <th>1999-11-05</th>\n",
              "      <td>138.6250</td>\n",
              "      <td>139.1093</td>\n",
              "      <td>136.7812</td>\n",
              "      <td>137.8750</td>\n",
              "      <td>93.1622</td>\n",
              "      <td>7431500.0</td>\n",
              "      <td>0.0000</td>\n",
              "      <td>1.0</td>\n",
              "    </tr>\n",
              "    <tr>\n",
              "      <th>1999-11-04</th>\n",
              "      <td>136.7500</td>\n",
              "      <td>137.3593</td>\n",
              "      <td>135.7656</td>\n",
              "      <td>136.5312</td>\n",
              "      <td>92.2542</td>\n",
              "      <td>7907500.0</td>\n",
              "      <td>0.0000</td>\n",
              "      <td>1.0</td>\n",
              "    </tr>\n",
              "    <tr>\n",
              "      <th>1999-11-03</th>\n",
              "      <td>136.0000</td>\n",
              "      <td>136.3750</td>\n",
              "      <td>135.1250</td>\n",
              "      <td>135.5000</td>\n",
              "      <td>91.5574</td>\n",
              "      <td>7222300.0</td>\n",
              "      <td>0.0000</td>\n",
              "      <td>1.0</td>\n",
              "    </tr>\n",
              "    <tr>\n",
              "      <th>1999-11-02</th>\n",
              "      <td>135.9687</td>\n",
              "      <td>137.2500</td>\n",
              "      <td>134.5937</td>\n",
              "      <td>134.5937</td>\n",
              "      <td>90.9450</td>\n",
              "      <td>6516900.0</td>\n",
              "      <td>0.0000</td>\n",
              "      <td>1.0</td>\n",
              "    </tr>\n",
              "    <tr>\n",
              "      <th>1999-11-01</th>\n",
              "      <td>136.5000</td>\n",
              "      <td>137.0000</td>\n",
              "      <td>135.5625</td>\n",
              "      <td>135.5625</td>\n",
              "      <td>91.5996</td>\n",
              "      <td>4006500.0</td>\n",
              "      <td>0.0000</td>\n",
              "      <td>1.0</td>\n",
              "    </tr>\n",
              "  </tbody>\n",
              "</table>\n",
              "</div>"
            ],
            "text/plain": [
              "             1. open   2. high  ...  7. dividend amount  8. split coefficient\n",
              "date                            ...                                          \n",
              "1999-12-31  146.8437  147.5000  ...              0.0000                   1.0\n",
              "1999-12-30  147.1250  147.5625  ...              0.0000                   1.0\n",
              "1999-12-29  146.3125  146.8125  ...              0.0000                   1.0\n",
              "1999-12-28  145.8750  146.5000  ...              0.0000                   1.0\n",
              "1999-12-27  146.5000  146.7812  ...              0.0000                   1.0\n",
              "1999-12-23  145.0156  146.4843  ...              0.0000                   1.0\n",
              "1999-12-22  143.6250  144.1875  ...              0.0000                   1.0\n",
              "1999-12-21  141.5937  144.0625  ...              0.0000                   1.0\n",
              "1999-12-20  142.5625  143.1875  ...              0.0000                   1.0\n",
              "1999-12-17  143.0000  143.3125  ...              0.3476                   1.0\n",
              "1999-12-16  142.1875  142.6562  ...              0.0000                   1.0\n",
              "1999-12-15  140.3750  142.2031  ...              0.0000                   1.0\n",
              "1999-12-14  141.6250  142.4843  ...              0.0000                   1.0\n",
              "1999-12-13  141.4375  142.7187  ...              0.0000                   1.0\n",
              "1999-12-10  142.2812  142.8125  ...              0.0000                   1.0\n",
              "1999-12-09  141.8125  142.2187  ...              0.0000                   1.0\n",
              "1999-12-08  141.3437  142.0625  ...              0.0000                   1.0\n",
              "1999-12-07  143.2812  143.3125  ...              0.0000                   1.0\n",
              "1999-12-06  143.5312  143.7187  ...              0.0000                   1.0\n",
              "1999-12-03  143.0312  145.3437  ...              0.0000                   1.0\n",
              "1999-12-02  140.6250  141.3750  ...              0.0000                   1.0\n",
              "1999-12-01  139.3125  140.5000  ...              0.0000                   1.0\n",
              "1999-11-30  140.7500  142.3125  ...              0.0000                   1.0\n",
              "1999-11-29  140.8750  141.9218  ...              0.0000                   1.0\n",
              "1999-11-26  142.4687  142.8750  ...              0.0000                   1.0\n",
              "1999-11-24  140.7500  142.4375  ...              0.0000                   1.0\n",
              "1999-11-23  142.8437  142.8437  ...              0.0000                   1.0\n",
              "1999-11-22  142.4375  143.0000  ...              0.0000                   1.0\n",
              "1999-11-19  142.4062  142.9687  ...              0.0000                   1.0\n",
              "1999-11-18  142.4375  143.0000  ...              0.0000                   1.0\n",
              "1999-11-17  142.2500  142.9375  ...              0.0000                   1.0\n",
              "1999-11-16  140.5625  143.0000  ...              0.0000                   1.0\n",
              "1999-11-15  139.8437  140.2500  ...              0.0000                   1.0\n",
              "1999-11-12  139.2500  139.9843  ...              0.0000                   1.0\n",
              "1999-11-11  138.1875  138.5000  ...              0.0000                   1.0\n",
              "1999-11-10  136.2500  138.3906  ...              0.0000                   1.0\n",
              "1999-11-09  138.5000  138.6875  ...              0.0000                   1.0\n",
              "1999-11-08  137.0000  138.3750  ...              0.0000                   1.0\n",
              "1999-11-05  138.6250  139.1093  ...              0.0000                   1.0\n",
              "1999-11-04  136.7500  137.3593  ...              0.0000                   1.0\n",
              "1999-11-03  136.0000  136.3750  ...              0.0000                   1.0\n",
              "1999-11-02  135.9687  137.2500  ...              0.0000                   1.0\n",
              "1999-11-01  136.5000  137.0000  ...              0.0000                   1.0\n",
              "\n",
              "[43 rows x 8 columns]"
            ]
          },
          "metadata": {
            "tags": []
          },
          "execution_count": 16
        }
      ]
    }
  ]
}