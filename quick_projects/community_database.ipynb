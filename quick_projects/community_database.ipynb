{
  "nbformat": 4,
  "nbformat_minor": 0,
  "metadata": {
    "colab": {
      "name": "community_database.ipynb",
      "provenance": [],
      "collapsed_sections": [],
      "mount_file_id": "1E8HKmKpNAyqGkdD3zlJy3GpjIp_ZnRXN",
      "authorship_tag": "ABX9TyNZ4CqtNOCEVznP16FiOCKT",
      "include_colab_link": true
    },
    "kernelspec": {
      "name": "python3",
      "display_name": "Python 3"
    }
  },
  "cells": [
    {
      "cell_type": "markdown",
      "metadata": {
        "id": "view-in-github",
        "colab_type": "text"
      },
      "source": [
        "<a href=\"https://colab.research.google.com/github/Jakub-MFP/My_FIRE_Project/blob/master/quick_projects/community_database.ipynb\" target=\"_parent\"><img src=\"https://colab.research.google.com/assets/colab-badge.svg\" alt=\"Open In Colab\"/></a>"
      ]
    },
    {
      "cell_type": "markdown",
      "metadata": {
        "id": "U7GrDJYHd_ij",
        "colab_type": "text"
      },
      "source": [
        "# **General Setup**"
      ]
    },
    {
      "cell_type": "code",
      "metadata": {
        "id": "oCtzbWPVeDBz",
        "colab_type": "code",
        "colab": {}
      },
      "source": [
        "import pandas as pd\n",
        "from pandas import DataFrame\n",
        "import json\n",
        "import requests\n",
        "import sqlite3\n",
        "import time\n",
        "import datetime\n",
        "from datetime import datetime as dt"
      ],
      "execution_count": 2,
      "outputs": []
    },
    {
      "cell_type": "markdown",
      "metadata": {
        "id": "jDmXzUhTeFvQ",
        "colab_type": "text"
      },
      "source": [
        "# **Connect To Database**\n",
        "\n",
        "- If there is no database found, than it will create one. \n",
        "- Connect your Google Drive to this notebook on the side menu\n",
        "- This will enable you to save and access your own database in your own google drive"
      ]
    },
    {
      "cell_type": "code",
      "metadata": {
        "id": "Ru7KgITeeFEr",
        "colab_type": "code",
        "colab": {}
      },
      "source": [
        "conn = sqlite3.connect('/content/drive/My Drive/Colab Notebooks/myfireproject.db')\n",
        "c = conn.cursor()"
      ],
      "execution_count": 7,
      "outputs": []
    },
    {
      "cell_type": "markdown",
      "metadata": {
        "id": "gloLL-GqeZ_-",
        "colab_type": "text"
      },
      "source": [
        "## **Create New Tables**\n",
        "\n",
        "This will create a new table with the following columns.\n",
        "\n",
        "If the table already exists, than nothing will happen. "
      ]
    },
    {
      "cell_type": "markdown",
      "metadata": {
        "id": "nz3GIThygitL",
        "colab_type": "text"
      },
      "source": [
        "*Create `promotions` Table*"
      ]
    },
    {
      "cell_type": "code",
      "metadata": {
        "id": "5_Jccn9NefrA",
        "colab_type": "code",
        "colab": {
          "base_uri": "https://localhost:8080/",
          "height": 34
        },
        "outputId": "19f25740-d384-4245-c576-04b2d9654bfd"
      },
      "source": [
        "createTable_promotions = \"\"\"\n",
        "    CREATE TABLE IF NOT EXISTS \n",
        "        promotions( \n",
        "            transaction_id INT, \n",
        "            current_date TEXT,\n",
        "            promotion_category TEXT,\n",
        "            promotion_type TEXT,\n",
        "            redemption_user TEXT,\n",
        "            promotion_amount INT,\n",
        "            notes TEXT\n",
        "    )\n",
        "\"\"\"\n",
        "c.execute(createTable_promotions)"
      ],
      "execution_count": 4,
      "outputs": [
        {
          "output_type": "execute_result",
          "data": {
            "text/plain": [
              "<sqlite3.Cursor at 0x7fd9dd46c8f0>"
            ]
          },
          "metadata": {
            "tags": []
          },
          "execution_count": 4
        }
      ]
    },
    {
      "cell_type": "markdown",
      "metadata": {
        "id": "9zLZZMoCekgQ",
        "colab_type": "text"
      },
      "source": [
        "*Create `community_fund` Table*"
      ]
    },
    {
      "cell_type": "code",
      "metadata": {
        "id": "Qmg3LXI-gxWp",
        "colab_type": "code",
        "colab": {
          "base_uri": "https://localhost:8080/",
          "height": 34
        },
        "outputId": "5c22e9c4-218d-4c58-cf0d-020c5f77c680"
      },
      "source": [
        "createTable_promotions = \"\"\"\n",
        "    CREATE TABLE IF NOT EXISTS \n",
        "        community_fund( \n",
        "            transaction_id INT, \n",
        "            current_date TEXT,\n",
        "            promotion_category TEXT,\n",
        "            promotion_type TEXT,\n",
        "            redemption_user TEXT,\n",
        "            promotion_amount INT,\n",
        "            notes TEXT\n",
        "    )\n",
        "\"\"\"\n",
        "c.execute(createTable_promotions)"
      ],
      "execution_count": 5,
      "outputs": [
        {
          "output_type": "execute_result",
          "data": {
            "text/plain": [
              "<sqlite3.Cursor at 0x7fd9dd46c8f0>"
            ]
          },
          "metadata": {
            "tags": []
          },
          "execution_count": 5
        }
      ]
    }
  ]
}