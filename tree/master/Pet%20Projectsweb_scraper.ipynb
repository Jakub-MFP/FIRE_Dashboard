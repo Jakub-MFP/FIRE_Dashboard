{
  "nbformat": 4,
  "nbformat_minor": 0,
  "metadata": {
    "colab": {
      "name": "web_scraper.ipynb",
      "provenance": [],
      "authorship_tag": "ABX9TyNcjeAJMNq1ZPWGiGYo7Kps",
      "include_colab_link": true
    },
    "kernelspec": {
      "name": "python3",
      "display_name": "Python 3"
    }
  },
  "cells": [
    {
      "cell_type": "markdown",
      "metadata": {
        "id": "view-in-github",
        "colab_type": "text"
      },
      "source": [
        "<a href=\"https://colab.research.google.com/github/Jakub-MFP/My_FIRE_Project/blob/master/tree/master/Pet%2520Projectsweb_scraper.ipynb\" target=\"_parent\"><img src=\"https://colab.research.google.com/assets/colab-badge.svg\" alt=\"Open In Colab\"/></a>"
      ]
    },
    {
      "cell_type": "markdown",
      "metadata": {
        "id": "qGFPWPFvXmKL"
      },
      "source": [
        "Targets to scrape:\n",
        "\n",
        "\n",
        "1. Mixed Vegetables\n",
        "2. Corn Kernels\n",
        "3. French Fries\n",
        "4. Pork chop\n",
        "5. Pork Shoulder / Kasim\n",
        "6. Pork Belly / Liempo\n",
        "7. Pork Sinigang \n",
        "8. Pork Pata\n",
        "9. Pork Pata Front\n",
        "10. Beef Shank Premium\n",
        "\n",
        "\n"
      ]
    },
    {
      "cell_type": "code",
      "metadata": {
        "id": "qsqxCphlXfvd",
        "outputId": "27888f73-aa63-4f3e-bc31-3234a6af71d6",
        "colab": {
          "base_uri": "https://localhost:8080/",
          "height": 34
        }
      },
      "source": [
        "pip install beautifulsoup4"
      ],
      "execution_count": 1,
      "outputs": [
        {
          "output_type": "stream",
          "text": [
            "Requirement already satisfied: beautifulsoup4 in /usr/local/lib/python3.6/dist-packages (4.6.3)\n"
          ],
          "name": "stdout"
        }
      ]
    },
    {
      "cell_type": "code",
      "metadata": {
        "id": "ke3yrILGsM6M"
      },
      "source": [
        "from urllib.request import urlopen # will handle server request for the url\n",
        "from bs4 import BeautifulSoup"
      ],
      "execution_count": 2,
      "outputs": []
    },
    {
      "cell_type": "code",
      "metadata": {
        "id": "AIeoC-xwscQP",
        "outputId": "ec9f071e-be91-466f-c8de-afa90595c2eb",
        "colab": {
          "base_uri": "https://localhost:8080/",
          "height": 323
        }
      },
      "source": [
        "html = urlopen('https://www.frozenmnl.com/collections/meat-seafood')\n",
        "soup = BeautifulSoup(html.read(), 'html.parser')\n",
        "\n",
        "divs = soup.find_all('div', {'class': 'tt-price'})\n",
        "for div in divs:\n",
        "\tprint(div)"
      ],
      "execution_count": 6,
      "outputs": [
        {
          "output_type": "stream",
          "text": [
            "<div class=\"tt-price\">price</div>\n",
            "<div class=\"tt-price\"><span>₱210.00</span><span class=\"old-price hide\"></span></div>\n",
            "<div class=\"tt-price\"><span>₱245.00</span><span class=\"old-price hide\"></span></div>\n",
            "<div class=\"tt-price\"><span>₱255.00</span><span class=\"old-price hide\"></span></div>\n",
            "<div class=\"tt-price\"><span>₱200.00</span><span class=\"old-price hide\"></span></div>\n",
            "<div class=\"tt-price\"><span>₱245.00</span><span class=\"old-price hide\"></span></div>\n",
            "<div class=\"tt-price\"><span>₱265.00</span><span class=\"old-price hide\"></span></div>\n",
            "<div class=\"tt-price\"><span>₱290.00</span><span class=\"old-price hide\"></span></div>\n",
            "<div class=\"tt-price\"><span>₱245.00</span><span class=\"old-price hide\"></span></div>\n",
            "<div class=\"tt-price\"><span>₱455.00</span><span class=\"old-price hide\"></span></div>\n",
            "<div class=\"tt-price\"><span>₱320.00</span><span class=\"old-price hide\"></span></div>\n",
            "<div class=\"tt-price\"><span>₱1,500.00</span><span class=\"old-price hide\"></span></div>\n",
            "<div class=\"tt-price\"><span>₱468.00</span><span class=\"old-price hide\"></span></div>\n",
            "<div class=\"tt-price\"><span>₱480.00</span><span class=\"old-price hide\"></span></div>\n",
            "<div class=\"tt-price\"><span>₱585.00</span><span class=\"old-price hide\"></span></div>\n",
            "<div class=\"tt-price\"><span>₱360.00</span><span class=\"old-price hide\"></span></div>\n",
            "<div class=\"tt-price\"><span>₱255.00</span><span class=\"old-price hide\"></span></div>\n",
            "<div class=\"tt-price\"><span></span><span class=\"old-price hide\"></span></div>\n"
          ],
          "name": "stdout"
        }
      ]
    },
    {
      "cell_type": "code",
      "metadata": {
        "id": "vssxpPH5t711"
      },
      "source": [
        ""
      ],
      "execution_count": null,
      "outputs": []
    }
  ]
}