{
  "nbformat": 4,
  "nbformat_minor": 0,
  "metadata": {
    "colab": {
      "name": "meal_plan.ipynb",
      "provenance": [],
      "collapsed_sections": [],
      "authorship_tag": "ABX9TyNH9PmWMy+Cm2kOhuxPhVnQ",
      "include_colab_link": true
    },
    "kernelspec": {
      "name": "python3",
      "display_name": "Python 3"
    }
  },
  "cells": [
    {
      "cell_type": "markdown",
      "metadata": {
        "id": "view-in-github",
        "colab_type": "text"
      },
      "source": [
        "<a href=\"https://colab.research.google.com/github/Jakub-MFP/My_FIRE_Project/blob/master/tree/master/Pet%2520Projectsmeal_plan.ipynb\" target=\"_parent\"><img src=\"https://colab.research.google.com/assets/colab-badge.svg\" alt=\"Open In Colab\"/></a>"
      ]
    },
    {
      "cell_type": "markdown",
      "metadata": {
        "id": "8LBqcvkSFzkk"
      },
      "source": [
        "This will calculate the Desirable Body Weight (DBW) by using Tannhausser's Broca Method"
      ]
    },
    {
      "cell_type": "code",
      "metadata": {
        "id": "Vp1vsve3FIW7"
      },
      "source": [
        "#Ask user to input height and weight"
      ],
      "execution_count": null,
      "outputs": []
    },
    {
      "cell_type": "code",
      "metadata": {
        "id": "GTq6gl66PDHj",
        "outputId": "1c6f1164-c1fc-4abc-adec-b84d05a9a41c",
        "colab": {
          "base_uri": "https://localhost:8080/",
          "height": 85
        }
      },
      "source": [
        "print(\"Input your height: \")\n",
        "h_ft = int(input(\"Feet: \"))\n",
        "h_inch = int(input(\"Inches: \"))\n",
        "\n",
        "h_inch += h_ft * 12\n",
        "h_cm = round(h_inch * 2.54, 1)\n",
        "\n",
        "print(\"Your height is : %d cm.\" % h_cm)\n",
        "height = float(h_cm)"
      ],
      "execution_count": 1,
      "outputs": [
        {
          "output_type": "stream",
          "text": [
            "Input your height: \n",
            "Feet: 5\n",
            "Inches: 2\n",
            "Your height is : 157 cm.\n"
          ],
          "name": "stdout"
        }
      ]
    },
    {
      "cell_type": "code",
      "metadata": {
        "id": "y1Z2qeiKE78u"
      },
      "source": [
        "# Convert height from feet to cm"
      ],
      "execution_count": null,
      "outputs": []
    },
    {
      "cell_type": "code",
      "metadata": {
        "id": "8-shOCkMPkO1"
      },
      "source": [
        "weight = input('Weight in kg = ? ')\n",
        "weight = float(weight)"
      ],
      "execution_count": null,
      "outputs": []
    },
    {
      "cell_type": "code",
      "metadata": {
        "id": "33Un2vcIFVhj"
      },
      "source": [
        "# DBW height in cm - 100 = kg\n"
      ],
      "execution_count": null,
      "outputs": []
    },
    {
      "cell_type": "code",
      "metadata": {
        "id": "oScERQh3Fd7L"
      },
      "source": [
        "# get range of DBW = 10 % of kg"
      ],
      "execution_count": null,
      "outputs": []
    },
    {
      "cell_type": "code",
      "metadata": {
        "id": "_6KHoqtzFl9s"
      },
      "source": [
        "#kg-10% of kg"
      ],
      "execution_count": null,
      "outputs": []
    },
    {
      "cell_type": "markdown",
      "metadata": {
        "id": "Vt3PQC4uFsFy"
      },
      "source": [
        "This will calculate Body Mass Index (BMI)\n",
        "Desirable BMI for Men = 22\n",
        "Desirable BMI for Women = 20.8"
      ]
    },
    {
      "cell_type": "code",
      "metadata": {
        "id": "0IFJDCXmFxbb"
      },
      "source": [
        "BMI = weight(kg)/H(m)^2\n",
        "# A BMI range of 19.0-24.9 is considered normal"
      ],
      "execution_count": null,
      "outputs": []
    },
    {
      "cell_type": "code",
      "metadata": {
        "id": "zWGu_0kqQZtT"
      },
      "source": [
        " def BMI(height,weight,is_metric):\n",
        "    if (is_metric):\n",
        "        # Height in meters, weight in kg\n",
        "        return weight / height**2\n",
        "    else:\n",
        "        # Height in inches, weight in lbs\n",
        "        height = height * 0.0254\n",
        "        weight = weight * 0.453\n",
        "        return BMI(height,weight,True)\n",
        " \n",
        " if BMI >= 19 and BMI <= 24:\n",
        "        print ('Your BMI is', BMI, 'so, you are healthy weight!')\n",
        "\n",
        "    elif BMI >= 25 and BMI <= 29:\n",
        "        print ('Your BMI is', BMI, 'so, you are overweight!')\n",
        "\n",
        "    elif BMI >= 30 and BMI <= 39:\n",
        "        print ('Your BMI is', BMI, 'so, you are obese!')\n",
        "\n",
        "    elif BMI > 39:\n",
        "        print ('Your BMI is', BMI, 'so, you are extremely obese!')\n",
        "\n",
        "    elif BMI < 19:\n",
        "        print ('Your BMI is', BMI, 'so, you are underweight!')\n",
        "else:\n",
        "    print ('There was an error with your input. Please restart the program!')\n"
      ],
      "execution_count": null,
      "outputs": []
    },
    {
      "cell_type": "markdown",
      "metadata": {
        "id": "KfwtOuRnJ5cs"
      },
      "source": [
        "Make a library or def for Reasonable Energy Allowance\n",
        "\n",
        "https://medium.com/analytics-vidhya/how-to-create-a-python-library-7d5aea80cc3f"
      ]
    },
    {
      "cell_type": "code",
      "metadata": {
        "id": "sEdilwqaIXYM"
      },
      "source": [
        "#calculate Total Energy Allowance"
      ],
      "execution_count": null,
      "outputs": []
    },
    {
      "cell_type": "markdown",
      "metadata": {
        "id": "P3ZuaibvKL2z"
      },
      "source": [
        "Determine the carbohydrate(CHO), protein(PRO), and fat by:\n",
        "\n",
        "Percentage distribution:\n",
        "\n",
        "Carbohydrates     55-70% of TEA\n",
        "\n",
        "Proteins          10-15% of TEA \n",
        "\n",
        "Fats              20-30% of TEA "
      ]
    },
    {
      "cell_type": "code",
      "metadata": {
        "id": "hnPqdIv-LBQL"
      },
      "source": [
        "CHO(kcal) = TEA * 0.65\n",
        "PRO(kcal) = TEA * 0.15\n",
        "FAT(kcal) = TEA * 0.20"
      ],
      "execution_count": null,
      "outputs": []
    },
    {
      "cell_type": "markdown",
      "metadata": {
        "id": "ThQEIkPpLSGC"
      },
      "source": [
        "Calculate the number of grams of CHO, PRO and FAT"
      ]
    },
    {
      "cell_type": "code",
      "metadata": {
        "id": "QXIahIWvLQqB"
      },
      "source": [
        "CHO (g) = CHO(kcal) / 4\n",
        "PRO (g) = PRO(kcal) / 4\n",
        "FAT (g) = FAT(kcal) / 9"
      ],
      "execution_count": null,
      "outputs": []
    },
    {
      "cell_type": "code",
      "metadata": {
        "id": "r4lymmSyL4mT"
      },
      "source": [
        "Diet RX: kcal = ; CHO = g; PRO = g; FAT = g"
      ],
      "execution_count": null,
      "outputs": []
    },
    {
      "cell_type": "markdown",
      "metadata": {
        "id": "CjNmvAKVMKe6"
      },
      "source": [
        "Make a Food Exchange List Library"
      ]
    },
    {
      "cell_type": "markdown",
      "metadata": {
        "id": "B8MXFDHRMb4L"
      },
      "source": [
        "Generate a Meal Plan in Exchanges"
      ]
    },
    {
      "cell_type": "markdown",
      "metadata": {
        "id": "2RBdlbigNGhj"
      },
      "source": [
        "https://github.com/openfoodfacts/openfoodfacts-python\n",
        "https://pypi.org/project/noms/"
      ]
    },
    {
      "cell_type": "markdown",
      "metadata": {
        "id": "VYWsZ1M_OCuz"
      },
      "source": [
        "Have an inverse cooking algo included in the program\n",
        " \n",
        " it is able to predict ingredients, cooking instructions and a title for a recipe, directly from an image\n",
        " \n",
        "https://github.com/facebookresearch/inversecooking?fbclid=IwAR16ye_Z97IiwXSkldYLFEIlsGW9K7fLNlwhvvqRUCSVR49OlS9jv3AWP2k"
      ]
    }
  ]
}